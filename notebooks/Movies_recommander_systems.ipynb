{
  "nbformat": 4,
  "nbformat_minor": 0,
  "metadata": {
    "colab": {
      "provenance": []
    },
    "kernelspec": {
      "name": "python3",
      "display_name": "Python 3"
    },
    "language_info": {
      "name": "python"
    },
    "accelerator": "GPU",
    "gpuClass": "standard"
  },
  "cells": [
    {
      "cell_type": "markdown",
      "source": [
        "![Image1.png](data:image/png;base64,iVBORw0KGgoAAAANSUhEUgAAAFgAAABMCAYAAADp0nC5AAAAAXNSR0IArs4c6QAAAARnQU1BAACxjwv8YQUAAAAJcEhZcwAACxMAAAsTAQCanBgAABNySURBVHhe7VwLlBTVmW6iqzHqqvEZNLrrK0bdTQy6m1UT3BBdjQREpunqqupuGLoe3TPdVbd6hseKzAAzPAMGkfgigsDC8BAEX9FIlKAG9cRH9GSTHDErGjVq1geLCAiz33f7dk9PMzADDgjY3zn3VNV91L3/V//977tC+xvC4YbD9JR/ZjQleutOMCzqBouijlgXtfykilLBniCS8r6p276ru2J+1BZ/MNygNZaubzVTuVYzXdequf4PVNQKuoqG3g2HGna2T9TylhhOsE4HqfGaYZJU3RHKBa30N2tz/6iSVdAZqqvrjzYcMUB3/CdB4lYzVSdJpdaSVAP31N547XBc6+j3x6gdnKCSV7AraHbmahC2gmSWamrhOU+ovx7uIWjvTbgK08le2cu2/069ooKOMHSo+KokzA3ej9XUl5BaJ69R238Ptneu6YqBhpM7P+F5x6qkFXQGVO/LQe6zrPas/iSXDReu26OO/ztqaThRd0pDQ8OXVJIKugrD9RPoar1JTS2YAxINTX4ZPYZsFTRbRa1gd2HYfgYkbizY2rz2+ttxfyf7uipaBXuCaNILoLlbCuSqxutd3A+tmILPCM0WJmzuhqK9zZuHVzUnuFJFOeihVdf3TKRyvdRj90Fzg4tA5lsFzVXkrjcPfnJ79ObAyRXfjbr+Msg8R09631Zh3QN2rTRHrC7thuG6UXP8KhXloEOkJjgXMo9Fb+hRDJ5eRq3dhPsVVWlxtorSPaBdRT+2HqRuU8QWtLdZRTloABIviVpC022/AWS+wvaFQ3zIukGz/TGZTOZwFbX7EMtmT0eG69tMQ46DhxcOpm6YNjR7ctTxbkYX8/WoI7awprI/T4KhvS/qVu4aFbX7YTjBDbJ/C3IVwVvZ2KngAxrhdPoo3c3FINcrrJVUHtZS2TNyg00YSM0aYOZOUtG7H31t+yswD+sMt61LBu19xrD8r6koBywiydrvQablSmmKCiS11hX/DY2Oh0KtPVT0vQPd8q6BedjKaUVmHkfVAeHTVPABiVh2+Oma68+ATG8XGu1SkqHBd8eSNeeq6HsXyHBqoWFT102mKzQVfEBhgOueFE0FARTkLfbj2wjNz/TB9v4e/fkou2Qqyd5FOBw+BObgkbaumWzc/hqz/YtVlDa0oiotavhqaFHTqaEFk3p2m5vXcFpoccNRKpc9gpHJ/D1MWgIa+zTtbMHc0eVtrfgAPYbpkVTwdZVk34DTkPiqz8pCoDD84iB4fYdzDYumHhFqaZoaWjrxeVyf6za3bNLzoYVNg1Uuu4WGht6Hoss1EBr7GMq/Vc3yFWXJa3CwCvL8UCXZt6CtQuFeKhRMFmhnBM+dcmSopfm+0MqpraF7JnWfe+Cm1tDC5v9UuXQJV5rmkdDYq1DWx2DWNucbrUL/ncRKc/Cq6YjaqipxhEq272EkM6ehkC8WCKbdgga/o1nev6oobcgTvEyS0tLcfe7eKSC4abjKZZcwSSxGllFX3FMgs0AsnTR1bvAO7qdWJfeDdUA9lToOhXmm0AdWhd1i2mKIitKGz5HgKlF1BDQyjtq2ClX+k9KeAcusFORTDBhaTCu4VCXbP4CCP1ha4Hgtho22f/cO05KfA8FadU1Pw/WT+ZUTsVWuqpRpLEjdjPDVGKldiUb7MJV0/wEIHo1CcyJdFlpNU741KCm+q6Lkse8I7hG1vX9DGcbiQ/+p2CsoIVY1XrSzj1Kz9+tFVd0S/wS7+3GpZqiJnpWJRMOXVbTuJXjx+NbQkgn56/Ip29Cb8BefHz4MmmjodrAUef8lVjOsuAZIJ01Bm81dy7gHzFwJGo6W0rkIKRCEgXbcXCT5sxK8GIQy7dKJuG9+L7Soed0Rc8c9cM60UWOuzwS3Qlv/jP7qFpYjr6EFYjFIkKYg+BjPT7KR61ddf7Qs04GCmBtcBM14u71ggdKWYF7UyZ4TaoVNbmm6L3TvTzomsNwtopaCzGWTQawkdX1o6YSHj76rcdkFk0fNudYPZppJfzW6W1tNmVf7HgHvVdvwPncPQbMj4fDiQ1SRDyywQYMG1UCozeVCymrpiJcxCqo75s5GAZIehfZtRPVG1W7ejns6EIpr/nmbcq/jgzwSWtA84+szbpx82Y3D5/f3cg8lkmJ1LOn9LV6mqaX55f39dzFk/ykaue/ZB8PGFQ6bQeRoNCbFxc6CU92g7fgIbwysCR66qq5u3HlTRg0/+dbG5uPuHHPzsXeOvfX4WY0zTrqtccJZN42+4bIbho/6sVc3M1yT+yX6rH+OW+JNaOvGGKt7yaCAjvf0U6PJD9EePMOPzXWxVg7PDzZAOBtEry+3yWy1pYbhihGSvBq2v8mwvL/qlv86qvo7cJ/kw/LhMg7SSEJLSKXjR6QWx5L+hpglntBtaKsd9NlnEzGfJzTbvxhVdB60aVvpJHUpQQVXILDj8LYwSbgNYm2xXX4Y23/ymrr6WWdPHfVgz5mNOw5sDnaw046exCUaN5o44hW08B+Zlv9p3IHmgfQYiUe1zn+A/L2s6rhneJyEJv1P4kO9d2O2eH1QSrzaP1u36tIbR9xywu2Ntx42f9xvYaPfDq2csgG2e5jK9ouJdDp9VMQN+vYZVj/vqvr6p66vDR7THP/xxNDsU4mh/lq6eLX3G2jl4yByVf9ssBp2evWlo0Y8eMGkG5Ydf8fYu0It4xehJ/FH2Riy/1twK9Ar6eJcxMGN1scODd0zYUZo+cTf9ljQ9OvD545dc8ysxrVo5J49btaYp3n/lTlj1xwyf9zjIOyJ0NLxz4LA9bK3sZxdNfSB2Rcu787txmTPwQ050GhaITWOZLVz6OdKV+InBxQglF24clJLXYVghX03F/EFRYXgvYwKwXsZFYL3MkjwwuaVspFjA9Zd7v5pILpppMrlCwzOCyxoPjm0dMKZ3erun3ZmaHZD5dBMBRVUUEEFFXyu4AIl9xLoae/b8VTdP2s1NT0TiUTbyvA+glyCSmb7crlnbx770lO5XnrKt8O2fYzy2juQAjl+/6gj7tNtfzPPHHBFImr7W81UboXuBn33pqDlMNPibJTjY7jnquLiVOXdreB8NWReOjgzgqvfP1Le3Q8QdygEaTCcYDN35SCzN3XHW6U7YhX830rUDudyzf/heSTX3VSyvQrutZAEO+JFIznsNOXdrbg6kzkcCnQff5ug2971yrvb0QOCuIab486cDfiiImxnT+eRLLoY7nlyBmGfQOjXeFxApQtV19cfrbt+THeCxbrlr0Fhl6G6uVWi/WYO/h8C8Rp0O6iJON4/RC3RGHX8X+Gda+B+xlUPRJOLk+GGhsMMRzhRGzXJEVvxzv+N2t4SfODbDMe7gnFiNTXHI3waa5zcXY+wqBPcdF2s5niGE6abvRBpx6NsK1krNVuMYj541xTD8QcxDglGHitJMPIcIBMqDBmSOVG3sy7yuVe3xa8R3mKmRJznNVSUrkFP584AgX8y0yDYzcWU9w4AgT9UAkoizKEjzuaKBDVe7kVz/O08OiC1wQle4oE8xiMisKMQ8j0Sho+5PoEqWVh/S2Rk7eDZMi//v54Rx4GYZ8ySDdC6ywXOum0QdhLfx9M8+f0O/ka+Z3B2BONt09BmcHmeHxK1cQPfzTLR1OXLJWD6YPYcfzXzknE7INiw/O+gvM/Tn6YS5dlWkBOKuEZL+heoqJ3DtLID1RmvtV1djSUJiH+/NB2OeInksIqxsQAZa6SZsYIX9Or0GYzPHxyhwO/I7VQgC/HvidheJOqKgfC/XW4YSec+iNhBH8aXAtpiOAlB+GvQ+FrEv76wu5yay11DMp0t/kezvJEMJ2GaFfSDsnwktw3Y/kLTzg7BO+LIcx7et0Upw+Pc8ytNYxnByPtrSPe0lMEOfhN1PIdheEctri9KmW2xihvPGb9TINFoJoJAU5RXp4CGhKF12+BeiVh1ZylvCW5JAolPyYJYIks/ENQbgrwjty+5YrZp5o6UkQFJiu0vlg2N5U8vNKQQ7jzaYGjPC4lE3SkysgIJzq9Si09NW1ytvOVpJ+TzMDWX59lK98Xl7a2Yw9pDDd4pwbafkeUEyTwXJxMrxNHY8mSR3PBiiYHKe9cAGU2KjAnKq1PAjk0anB3JL/kLkhexs324H0H+4AjaCsJmsFagKi1lfGj390HK3yDM+4NSWdrbdtBTQTiv9d79hd3k8swzCXb835llG6FJcL6HI57vn2j7M0o4XXcKzNNG5LMpXvbhCR65otbTppYTDJmuQ5Qe+MjzpNmyxXzKkpcr6EMZpaLYYkG8BuGuPyP/1k5gWEG1tIm2eBCPXdkF0wMvv02aFVvIY7PlDpqtjnL5jzCBssHv4/kNLdteKwjY/mtk1bX9X9h2g2xEOyNY5b+Kh1eUd6jKEafKzS6w86zqyrsIKJPOsrFBLieY72TtQRmXKTu9feeyybznq9fuGup0/EdoFD4x3GHt9/OWgEcF2DKHWkGwJZpVVVsPbb0bjd1CFFA6+M2DbZ2NwsyKWP5VTKtssCQYjdcOJyIR9qPuIDicSJ+Cd30EErYYTuZ85V0ENH4IbTfS7UyDGWe2NJmO+APcnIJcednEXMoWdf07jPK9zzsDR2l46c9ltXDEc4Oc2m+poCKidvZy2N0X8BFa2dBE7dyPQeBmCPKaVp25SEWT4JECViXTdItE7gnBsWRwLojYgLKt46BDRlTYGcECpOEdD8QhCz76XezyqSA5QsW7FiUyI3dpg5HeNdN1bF9eKD/Iw/8K0dyF7eG7N+qLpIZ9Exn9PgEhkdE6EDEedjGCvqWBLzYNmb0hGw5bPEECKRQKKTvo/NIQdBSeDVTBHJ5/yd4CGqniqZ88wf4HeO9fdkUwbPDDBYLR+KHB8l9DY7aZfVf2r5F/Pd57AsrTlwTDXv6qlGCC5CPNh7IXwdrEHoQrNJRtPu5lL6KUYJRJylEgmOVDurWMB7/nZJ6QDVo7Ahw9BcXarrl+Qma2O4jx14Zu8BirkGz00J2izeE9rp/ieQkHCSp6SK/OnYGv/Qjjqz248ioL5ub4I7nLVVRZAyDch3BvxmpGFAcDBbAnwL4sCHsIg5TikSkIPwICy71tfDcE3QThL0M5rpBlRCMbTrc/gChJQ7cOjd2HVArKIMsmbbP4kLve8Y7H+cuBPMHi3gQabMPy+qlXkOQLkeYZmS/SgWhpd6WcbvAsR5kq6u4hk5l+uOzPwmQgg0ch4CNsLQ0nVxxglIJVkBoDgW4B2csQ926MrLLUMhVFQv6ow/ImgMAblVc7sBuG99yF97Q7fsthOQgYgvIsIRHIwyYxrKKIP1lL+deqqDuAkzhoH2ZSy0H2KhA4mn54nl46oGJtYPkTsN/KS4JdSfbVNTu4TcqG8uFjVR9wO+MrqOAzomXst0JLJ+ihhc0V11VHvhY3dfGHRwub7NCS8WuQcHXFddGRr5ZmRzHYCWZjvL684djQ4onHVFwXHfkibxVU8MUBp/NKO/m7Cw5FS1c7dhM92L8tnV4sQ1ePYn2meGoSfk9l6BgYzXypSh6cDuo4cuISTEdEG+kganbwe8T8fK64Oj9cFqM1x4vyY6ngIrjCgfAOGwbT9X+AYfkNnIvlsJRLQipIImJlLh2E0ZV67BBVQzIn4v2NLI/yKkJzMxchLM57DhTMVHBd+doiV9ENJ/AwmBihp7wIh9IqqAiu6hTe02Vw2IeR1/hBbvZC+XM5EFw6x0pwJg2CT4863u3lGTM9Rjk/44QMR0O6nbPLJ0OonRpGXhwNRTr4U5NpBSnNyV45JDPyRIyaariKoIIkOJqLdbLqKz+O7c82nLri0k8ByLsKea8FsZeqUeDEUiXgBJbmBJP5r0lOsjN+uQzy12WuPwtlu4XrlMq7c/CX3pqTk4uAOwO/Gs/56nbW5kFq5S0hl4+4oOgEPwHZOf5hlWN8FSzBIa1miSzI/77heKOVdxGGLXwIPQ9ETsF1BeK1W+HVLD9RunJRjqhTfw6G9mOphVFXTOKElAqSQPproSDj8BHGqyH0mFKC5WSQU9dfPXaIiCV0yYPj9+fHVN6dI+p6/6E7OaEe5apA6copJ2dA7gOcQCER/LNo6Xic2s5VaJJquu5J0MCZrEoqWM2KeTfDv8ngarHjtxg1/ndUsISeFJaeyvaiueI8MGfw4F20k5GkNzhuiX9Xj+3Aqq6lggyEvsMEASjj3KiVazenoSWzA1CmWAymEFr+c37IUoLliguUQz3KGTWuhKtHyQHSzcJHHInye3D/VT6VuVPQdulWMAzVYhhsqY+CiCGZzIkqmCYgi7BBNBOsGobrVRvQKBUcKizDM17UyaWhzT+FyTlPBXP68DKQO4bp8wuKQRiaUNtOgyyRRtVrpCmAq6eJKD1jTO2R73W9FD5SGmX4hgqSfzRBuWWe3IVkWNlL8P5GyqWiQIO9fiBnqLzP15bF+DJFG0y7DblVGwQ53ODGRLpt8sewgn6aK3LcnyFlcLzBLCsVQkXZNRLQQjYknGLUaup7Km+JuJU5q7RBYANY/u8wkpyv/rkrOFGuvCX4w4vSRou/EyDZpe9krTGs3CWouhfryVyv8pZcLuU74l9kQwktLCWPPY/SaVSC5SttqClflVKa3qhpkbIyEmwnBsn3B5eXr6CwbeA71KP8IHkOOjtoHgr9P6kf/vM69qKZAAAAAElFTkSuQmCC)\n",
        "# Coding week : 27-31 March 2023"
      ],
      "metadata": {
        "id": "VWrxY85gwONG"
      }
    },
    {
      "cell_type": "markdown",
      "source": [
        "**Project 3: Movie recommender systems using Regularized movie and user effect model**"
      ],
      "metadata": {
        "id": "8jSQV4E4w257"
      }
    },
    {
      "cell_type": "markdown",
      "source": [
        "\n",
        "\n",
        "```\n",
        "Objective\n",
        "```\n",
        "  The project’s goal is to train a machine learning algorithm using movieLens data for movie recommendation by implementing a regularized movie and user effect model."
      ],
      "metadata": {
        "id": "kT5ZljUjxRjc"
      }
    },
    {
      "cell_type": "markdown",
      "source": [
        "\n",
        "\n",
        "```\n",
        "Process\n",
        "```\n",
        "The purpose of a recommender system is to search for content that a user may be interested in. These systems are extensively used by companies to advertise for movies, books, music tracks, restaurants and many applications to users who had shown similar taste in the items they trade in. In particular, a movie recommender system in general is a system that is used to predict the chance that users who had watched a particular movie will likely be interested to watch a different movie depending on the choices of movies they make and their choices matches other users.\n"
      ],
      "metadata": {
        "id": "G9eVaMt6ycUd"
      }
    },
    {
      "cell_type": "markdown",
      "source": [
        "\n",
        "\n",
        "```\n",
        "Exploratory Data Analysis (EDA) and Data visualization\n",
        "```\n",
        "\n"
      ],
      "metadata": {
        "id": "0zU1xBzNy0E-"
      }
    },
    {
      "cell_type": "code",
      "execution_count": null,
      "metadata": {
        "id": "ntjvsBm2u3Ll"
      },
      "outputs": [],
      "source": [
        "import pandas as pd\n",
        "import numpy as np"
      ]
    },
    {
      "cell_type": "code",
      "source": [
        "unames = ['user_id', 'age', 'genre', 'occupation', 'zip'] # nom des colonnes de la table Users\n",
        "users = pd.read_table('/content/sample_data/u.user', sep=None, names=unames, engine='python')\n",
        "\n",
        "users.head()"
      ],
      "metadata": {
        "id": "Sxcp84b4u9m9",
        "colab": {
          "base_uri": "https://localhost:8080/",
          "height": 261
        },
        "outputId": "e8785a7e-6830-44b8-bf0b-602c13936cd5"
      },
      "execution_count": null,
      "outputs": [
        {
          "output_type": "stream",
          "name": "stderr",
          "text": [
            "<ipython-input-4-34c345cba143>:2: ParserWarning: Falling back to the 'python' engine because the 'c' engine does not support sep=None with delim_whitespace=False; you can avoid this warning by specifying engine='python'.\n",
            "  users = pd.read_table('/content/sample_data/u.user', sep=None, names=unames)\n"
          ]
        },
        {
          "output_type": "execute_result",
          "data": {
            "text/plain": [
              "   user_id  age genre  occupation    zip\n",
              "0        1   24     M  technician  85711\n",
              "1        2   53     F       other  94043\n",
              "2        3   23     M      writer  32067\n",
              "3        4   24     M  technician  43537\n",
              "4        5   33     F       other  15213"
            ],
            "text/html": [
              "\n",
              "  <div id=\"df-777e0894-34ea-4e93-8d1c-63d137b703c8\">\n",
              "    <div class=\"colab-df-container\">\n",
              "      <div>\n",
              "<style scoped>\n",
              "    .dataframe tbody tr th:only-of-type {\n",
              "        vertical-align: middle;\n",
              "    }\n",
              "\n",
              "    .dataframe tbody tr th {\n",
              "        vertical-align: top;\n",
              "    }\n",
              "\n",
              "    .dataframe thead th {\n",
              "        text-align: right;\n",
              "    }\n",
              "</style>\n",
              "<table border=\"1\" class=\"dataframe\">\n",
              "  <thead>\n",
              "    <tr style=\"text-align: right;\">\n",
              "      <th></th>\n",
              "      <th>user_id</th>\n",
              "      <th>age</th>\n",
              "      <th>genre</th>\n",
              "      <th>occupation</th>\n",
              "      <th>zip</th>\n",
              "    </tr>\n",
              "  </thead>\n",
              "  <tbody>\n",
              "    <tr>\n",
              "      <th>0</th>\n",
              "      <td>1</td>\n",
              "      <td>24</td>\n",
              "      <td>M</td>\n",
              "      <td>technician</td>\n",
              "      <td>85711</td>\n",
              "    </tr>\n",
              "    <tr>\n",
              "      <th>1</th>\n",
              "      <td>2</td>\n",
              "      <td>53</td>\n",
              "      <td>F</td>\n",
              "      <td>other</td>\n",
              "      <td>94043</td>\n",
              "    </tr>\n",
              "    <tr>\n",
              "      <th>2</th>\n",
              "      <td>3</td>\n",
              "      <td>23</td>\n",
              "      <td>M</td>\n",
              "      <td>writer</td>\n",
              "      <td>32067</td>\n",
              "    </tr>\n",
              "    <tr>\n",
              "      <th>3</th>\n",
              "      <td>4</td>\n",
              "      <td>24</td>\n",
              "      <td>M</td>\n",
              "      <td>technician</td>\n",
              "      <td>43537</td>\n",
              "    </tr>\n",
              "    <tr>\n",
              "      <th>4</th>\n",
              "      <td>5</td>\n",
              "      <td>33</td>\n",
              "      <td>F</td>\n",
              "      <td>other</td>\n",
              "      <td>15213</td>\n",
              "    </tr>\n",
              "  </tbody>\n",
              "</table>\n",
              "</div>\n",
              "      <button class=\"colab-df-convert\" onclick=\"convertToInteractive('df-777e0894-34ea-4e93-8d1c-63d137b703c8')\"\n",
              "              title=\"Convert this dataframe to an interactive table.\"\n",
              "              style=\"display:none;\">\n",
              "        \n",
              "  <svg xmlns=\"http://www.w3.org/2000/svg\" height=\"24px\"viewBox=\"0 0 24 24\"\n",
              "       width=\"24px\">\n",
              "    <path d=\"M0 0h24v24H0V0z\" fill=\"none\"/>\n",
              "    <path d=\"M18.56 5.44l.94 2.06.94-2.06 2.06-.94-2.06-.94-.94-2.06-.94 2.06-2.06.94zm-11 1L8.5 8.5l.94-2.06 2.06-.94-2.06-.94L8.5 2.5l-.94 2.06-2.06.94zm10 10l.94 2.06.94-2.06 2.06-.94-2.06-.94-.94-2.06-.94 2.06-2.06.94z\"/><path d=\"M17.41 7.96l-1.37-1.37c-.4-.4-.92-.59-1.43-.59-.52 0-1.04.2-1.43.59L10.3 9.45l-7.72 7.72c-.78.78-.78 2.05 0 2.83L4 21.41c.39.39.9.59 1.41.59.51 0 1.02-.2 1.41-.59l7.78-7.78 2.81-2.81c.8-.78.8-2.07 0-2.86zM5.41 20L4 18.59l7.72-7.72 1.47 1.35L5.41 20z\"/>\n",
              "  </svg>\n",
              "      </button>\n",
              "      \n",
              "  <style>\n",
              "    .colab-df-container {\n",
              "      display:flex;\n",
              "      flex-wrap:wrap;\n",
              "      gap: 12px;\n",
              "    }\n",
              "\n",
              "    .colab-df-convert {\n",
              "      background-color: #E8F0FE;\n",
              "      border: none;\n",
              "      border-radius: 50%;\n",
              "      cursor: pointer;\n",
              "      display: none;\n",
              "      fill: #1967D2;\n",
              "      height: 32px;\n",
              "      padding: 0 0 0 0;\n",
              "      width: 32px;\n",
              "    }\n",
              "\n",
              "    .colab-df-convert:hover {\n",
              "      background-color: #E2EBFA;\n",
              "      box-shadow: 0px 1px 2px rgba(60, 64, 67, 0.3), 0px 1px 3px 1px rgba(60, 64, 67, 0.15);\n",
              "      fill: #174EA6;\n",
              "    }\n",
              "\n",
              "    [theme=dark] .colab-df-convert {\n",
              "      background-color: #3B4455;\n",
              "      fill: #D2E3FC;\n",
              "    }\n",
              "\n",
              "    [theme=dark] .colab-df-convert:hover {\n",
              "      background-color: #434B5C;\n",
              "      box-shadow: 0px 1px 3px 1px rgba(0, 0, 0, 0.15);\n",
              "      filter: drop-shadow(0px 1px 2px rgba(0, 0, 0, 0.3));\n",
              "      fill: #FFFFFF;\n",
              "    }\n",
              "  </style>\n",
              "\n",
              "      <script>\n",
              "        const buttonEl =\n",
              "          document.querySelector('#df-777e0894-34ea-4e93-8d1c-63d137b703c8 button.colab-df-convert');\n",
              "        buttonEl.style.display =\n",
              "          google.colab.kernel.accessAllowed ? 'block' : 'none';\n",
              "\n",
              "        async function convertToInteractive(key) {\n",
              "          const element = document.querySelector('#df-777e0894-34ea-4e93-8d1c-63d137b703c8');\n",
              "          const dataTable =\n",
              "            await google.colab.kernel.invokeFunction('convertToInteractive',\n",
              "                                                     [key], {});\n",
              "          if (!dataTable) return;\n",
              "\n",
              "          const docLinkHtml = 'Like what you see? Visit the ' +\n",
              "            '<a target=\"_blank\" href=https://colab.research.google.com/notebooks/data_table.ipynb>data table notebook</a>'\n",
              "            + ' to learn more about interactive tables.';\n",
              "          element.innerHTML = '';\n",
              "          dataTable['output_type'] = 'display_data';\n",
              "          await google.colab.output.renderOutput(dataTable, element);\n",
              "          const docLink = document.createElement('div');\n",
              "          docLink.innerHTML = docLinkHtml;\n",
              "          element.appendChild(docLink);\n",
              "        }\n",
              "      </script>\n",
              "    </div>\n",
              "  </div>\n",
              "  "
            ]
          },
          "metadata": {},
          "execution_count": 4
        }
      ]
    },
    {
      "cell_type": "code",
      "source": [
        "rnames = ['user_id', 'movie_id', 'rating', 'timestamp']\n",
        "ratings = pd.read_table('/content/sample_data/u.data', sep=None, names=rnames, engine='python')\n",
        "ratings.head()"
      ],
      "metadata": {
        "id": "JuEYuoyPu9kR",
        "colab": {
          "base_uri": "https://localhost:8080/",
          "height": 206
        },
        "outputId": "de61b050-26d4-443c-eb5d-ea15780cf37a"
      },
      "execution_count": null,
      "outputs": [
        {
          "output_type": "execute_result",
          "data": {
            "text/plain": [
              "   user_id  movie_id  rating  timestamp\n",
              "0      196       242       3  881250949\n",
              "1      186       302       3  891717742\n",
              "2       22       377       1  878887116\n",
              "3      244        51       2  880606923\n",
              "4      166       346       1  886397596"
            ],
            "text/html": [
              "\n",
              "  <div id=\"df-0db1788f-8d35-437a-b389-efeaf17c5748\">\n",
              "    <div class=\"colab-df-container\">\n",
              "      <div>\n",
              "<style scoped>\n",
              "    .dataframe tbody tr th:only-of-type {\n",
              "        vertical-align: middle;\n",
              "    }\n",
              "\n",
              "    .dataframe tbody tr th {\n",
              "        vertical-align: top;\n",
              "    }\n",
              "\n",
              "    .dataframe thead th {\n",
              "        text-align: right;\n",
              "    }\n",
              "</style>\n",
              "<table border=\"1\" class=\"dataframe\">\n",
              "  <thead>\n",
              "    <tr style=\"text-align: right;\">\n",
              "      <th></th>\n",
              "      <th>user_id</th>\n",
              "      <th>movie_id</th>\n",
              "      <th>rating</th>\n",
              "      <th>timestamp</th>\n",
              "    </tr>\n",
              "  </thead>\n",
              "  <tbody>\n",
              "    <tr>\n",
              "      <th>0</th>\n",
              "      <td>196</td>\n",
              "      <td>242</td>\n",
              "      <td>3</td>\n",
              "      <td>881250949</td>\n",
              "    </tr>\n",
              "    <tr>\n",
              "      <th>1</th>\n",
              "      <td>186</td>\n",
              "      <td>302</td>\n",
              "      <td>3</td>\n",
              "      <td>891717742</td>\n",
              "    </tr>\n",
              "    <tr>\n",
              "      <th>2</th>\n",
              "      <td>22</td>\n",
              "      <td>377</td>\n",
              "      <td>1</td>\n",
              "      <td>878887116</td>\n",
              "    </tr>\n",
              "    <tr>\n",
              "      <th>3</th>\n",
              "      <td>244</td>\n",
              "      <td>51</td>\n",
              "      <td>2</td>\n",
              "      <td>880606923</td>\n",
              "    </tr>\n",
              "    <tr>\n",
              "      <th>4</th>\n",
              "      <td>166</td>\n",
              "      <td>346</td>\n",
              "      <td>1</td>\n",
              "      <td>886397596</td>\n",
              "    </tr>\n",
              "  </tbody>\n",
              "</table>\n",
              "</div>\n",
              "      <button class=\"colab-df-convert\" onclick=\"convertToInteractive('df-0db1788f-8d35-437a-b389-efeaf17c5748')\"\n",
              "              title=\"Convert this dataframe to an interactive table.\"\n",
              "              style=\"display:none;\">\n",
              "        \n",
              "  <svg xmlns=\"http://www.w3.org/2000/svg\" height=\"24px\"viewBox=\"0 0 24 24\"\n",
              "       width=\"24px\">\n",
              "    <path d=\"M0 0h24v24H0V0z\" fill=\"none\"/>\n",
              "    <path d=\"M18.56 5.44l.94 2.06.94-2.06 2.06-.94-2.06-.94-.94-2.06-.94 2.06-2.06.94zm-11 1L8.5 8.5l.94-2.06 2.06-.94-2.06-.94L8.5 2.5l-.94 2.06-2.06.94zm10 10l.94 2.06.94-2.06 2.06-.94-2.06-.94-.94-2.06-.94 2.06-2.06.94z\"/><path d=\"M17.41 7.96l-1.37-1.37c-.4-.4-.92-.59-1.43-.59-.52 0-1.04.2-1.43.59L10.3 9.45l-7.72 7.72c-.78.78-.78 2.05 0 2.83L4 21.41c.39.39.9.59 1.41.59.51 0 1.02-.2 1.41-.59l7.78-7.78 2.81-2.81c.8-.78.8-2.07 0-2.86zM5.41 20L4 18.59l7.72-7.72 1.47 1.35L5.41 20z\"/>\n",
              "  </svg>\n",
              "      </button>\n",
              "      \n",
              "  <style>\n",
              "    .colab-df-container {\n",
              "      display:flex;\n",
              "      flex-wrap:wrap;\n",
              "      gap: 12px;\n",
              "    }\n",
              "\n",
              "    .colab-df-convert {\n",
              "      background-color: #E8F0FE;\n",
              "      border: none;\n",
              "      border-radius: 50%;\n",
              "      cursor: pointer;\n",
              "      display: none;\n",
              "      fill: #1967D2;\n",
              "      height: 32px;\n",
              "      padding: 0 0 0 0;\n",
              "      width: 32px;\n",
              "    }\n",
              "\n",
              "    .colab-df-convert:hover {\n",
              "      background-color: #E2EBFA;\n",
              "      box-shadow: 0px 1px 2px rgba(60, 64, 67, 0.3), 0px 1px 3px 1px rgba(60, 64, 67, 0.15);\n",
              "      fill: #174EA6;\n",
              "    }\n",
              "\n",
              "    [theme=dark] .colab-df-convert {\n",
              "      background-color: #3B4455;\n",
              "      fill: #D2E3FC;\n",
              "    }\n",
              "\n",
              "    [theme=dark] .colab-df-convert:hover {\n",
              "      background-color: #434B5C;\n",
              "      box-shadow: 0px 1px 3px 1px rgba(0, 0, 0, 0.15);\n",
              "      filter: drop-shadow(0px 1px 2px rgba(0, 0, 0, 0.3));\n",
              "      fill: #FFFFFF;\n",
              "    }\n",
              "  </style>\n",
              "\n",
              "      <script>\n",
              "        const buttonEl =\n",
              "          document.querySelector('#df-0db1788f-8d35-437a-b389-efeaf17c5748 button.colab-df-convert');\n",
              "        buttonEl.style.display =\n",
              "          google.colab.kernel.accessAllowed ? 'block' : 'none';\n",
              "\n",
              "        async function convertToInteractive(key) {\n",
              "          const element = document.querySelector('#df-0db1788f-8d35-437a-b389-efeaf17c5748');\n",
              "          const dataTable =\n",
              "            await google.colab.kernel.invokeFunction('convertToInteractive',\n",
              "                                                     [key], {});\n",
              "          if (!dataTable) return;\n",
              "\n",
              "          const docLinkHtml = 'Like what you see? Visit the ' +\n",
              "            '<a target=\"_blank\" href=https://colab.research.google.com/notebooks/data_table.ipynb>data table notebook</a>'\n",
              "            + ' to learn more about interactive tables.';\n",
              "          element.innerHTML = '';\n",
              "          dataTable['output_type'] = 'display_data';\n",
              "          await google.colab.output.renderOutput(dataTable, element);\n",
              "          const docLink = document.createElement('div');\n",
              "          docLink.innerHTML = docLinkHtml;\n",
              "          element.appendChild(docLink);\n",
              "        }\n",
              "      </script>\n",
              "    </div>\n",
              "  </div>\n",
              "  "
            ]
          },
          "metadata": {},
          "execution_count": 5
        }
      ]
    },
    {
      "cell_type": "code",
      "source": [
        "mnames = ['movie_id', 'title', 'release_date', 'video_release_date','IMDb URL','Unknown', 'Action', 'Adventure',\n",
        "          'Animation', 'Childrens','Comedy','Crime' , 'Documentary', 'Drama', 'Fantasy','Film_Noir',\n",
        "          'Horror', 'Musical', 'Mystery', 'Romance', 'Sci_Fi','Thriller', 'War', 'Western']\n",
        "movies = pd.read_table('/content/sample_data/u.item', sep = '|', header=None, names=mnames, engine='python',  encoding = 'iso-8859-1')\n",
        "\n",
        "# Définir une fonction qui remplace les valeurs binaires par les noms de genre correspondants\n",
        "def get_genre_names(row):\n",
        "    genre_names = []\n",
        "    for i, col_value in enumerate(row.iloc[5:]):\n",
        "        if col_value == 1:\n",
        "            genre_names.append(mnames[i+5])\n",
        "    return '|'.join(genre_names)\n",
        "\n",
        "# Lire le fichier avec pandas en utilisant l'encodage 'iso-8859-1'\n",
        "movies = pd.read_table('/content/sample_data/u.item', sep = '|', header=None, names=mnames,  encoding = 'iso-8859-1')\n",
        "\n",
        "# Appliquer la fonction `get_genre_names` à chaque ligne pour remplacer les valeurs binaires par les noms de genre\n",
        "movies['genres'] = movies.apply(get_genre_names, axis=1)\n",
        "\n",
        "# Supprimer les colonnes inutiles\n",
        "movies.drop(mnames[5:25], axis=1, inplace=True)\n",
        "movies.drop(mnames[3:5], axis=1, inplace=True)\n",
        "# Afficher les 10 premières lignes du dataframe\n",
        "movies.head(10)\n",
        "\n"
      ],
      "metadata": {
        "id": "qxPRG-Tmu9h_",
        "colab": {
          "base_uri": "https://localhost:8080/",
          "height": 363
        },
        "outputId": "e84573ff-b07c-4833-e20f-ddc303331ce4"
      },
      "execution_count": null,
      "outputs": [
        {
          "output_type": "execute_result",
          "data": {
            "text/plain": [
              "   movie_id                                              title release_date  \\\n",
              "0         1                                   Toy Story (1995)  01-Jan-1995   \n",
              "1         2                                   GoldenEye (1995)  01-Jan-1995   \n",
              "2         3                                  Four Rooms (1995)  01-Jan-1995   \n",
              "3         4                                  Get Shorty (1995)  01-Jan-1995   \n",
              "4         5                                     Copycat (1995)  01-Jan-1995   \n",
              "5         6  Shanghai Triad (Yao a yao yao dao waipo qiao) ...  01-Jan-1995   \n",
              "6         7                              Twelve Monkeys (1995)  01-Jan-1995   \n",
              "7         8                                        Babe (1995)  01-Jan-1995   \n",
              "8         9                            Dead Man Walking (1995)  01-Jan-1995   \n",
              "9        10                                 Richard III (1995)  22-Jan-1996   \n",
              "\n",
              "                       genres  \n",
              "0  Animation|Childrens|Comedy  \n",
              "1   Action|Adventure|Thriller  \n",
              "2                    Thriller  \n",
              "3         Action|Comedy|Drama  \n",
              "4        Crime|Drama|Thriller  \n",
              "5                       Drama  \n",
              "6                Drama|Sci_Fi  \n",
              "7      Childrens|Comedy|Drama  \n",
              "8                       Drama  \n",
              "9                   Drama|War  "
            ],
            "text/html": [
              "\n",
              "  <div id=\"df-766d73e9-9093-42be-939c-15c09ec6bc5f\">\n",
              "    <div class=\"colab-df-container\">\n",
              "      <div>\n",
              "<style scoped>\n",
              "    .dataframe tbody tr th:only-of-type {\n",
              "        vertical-align: middle;\n",
              "    }\n",
              "\n",
              "    .dataframe tbody tr th {\n",
              "        vertical-align: top;\n",
              "    }\n",
              "\n",
              "    .dataframe thead th {\n",
              "        text-align: right;\n",
              "    }\n",
              "</style>\n",
              "<table border=\"1\" class=\"dataframe\">\n",
              "  <thead>\n",
              "    <tr style=\"text-align: right;\">\n",
              "      <th></th>\n",
              "      <th>movie_id</th>\n",
              "      <th>title</th>\n",
              "      <th>release_date</th>\n",
              "      <th>genres</th>\n",
              "    </tr>\n",
              "  </thead>\n",
              "  <tbody>\n",
              "    <tr>\n",
              "      <th>0</th>\n",
              "      <td>1</td>\n",
              "      <td>Toy Story (1995)</td>\n",
              "      <td>01-Jan-1995</td>\n",
              "      <td>Animation|Childrens|Comedy</td>\n",
              "    </tr>\n",
              "    <tr>\n",
              "      <th>1</th>\n",
              "      <td>2</td>\n",
              "      <td>GoldenEye (1995)</td>\n",
              "      <td>01-Jan-1995</td>\n",
              "      <td>Action|Adventure|Thriller</td>\n",
              "    </tr>\n",
              "    <tr>\n",
              "      <th>2</th>\n",
              "      <td>3</td>\n",
              "      <td>Four Rooms (1995)</td>\n",
              "      <td>01-Jan-1995</td>\n",
              "      <td>Thriller</td>\n",
              "    </tr>\n",
              "    <tr>\n",
              "      <th>3</th>\n",
              "      <td>4</td>\n",
              "      <td>Get Shorty (1995)</td>\n",
              "      <td>01-Jan-1995</td>\n",
              "      <td>Action|Comedy|Drama</td>\n",
              "    </tr>\n",
              "    <tr>\n",
              "      <th>4</th>\n",
              "      <td>5</td>\n",
              "      <td>Copycat (1995)</td>\n",
              "      <td>01-Jan-1995</td>\n",
              "      <td>Crime|Drama|Thriller</td>\n",
              "    </tr>\n",
              "    <tr>\n",
              "      <th>5</th>\n",
              "      <td>6</td>\n",
              "      <td>Shanghai Triad (Yao a yao yao dao waipo qiao) ...</td>\n",
              "      <td>01-Jan-1995</td>\n",
              "      <td>Drama</td>\n",
              "    </tr>\n",
              "    <tr>\n",
              "      <th>6</th>\n",
              "      <td>7</td>\n",
              "      <td>Twelve Monkeys (1995)</td>\n",
              "      <td>01-Jan-1995</td>\n",
              "      <td>Drama|Sci_Fi</td>\n",
              "    </tr>\n",
              "    <tr>\n",
              "      <th>7</th>\n",
              "      <td>8</td>\n",
              "      <td>Babe (1995)</td>\n",
              "      <td>01-Jan-1995</td>\n",
              "      <td>Childrens|Comedy|Drama</td>\n",
              "    </tr>\n",
              "    <tr>\n",
              "      <th>8</th>\n",
              "      <td>9</td>\n",
              "      <td>Dead Man Walking (1995)</td>\n",
              "      <td>01-Jan-1995</td>\n",
              "      <td>Drama</td>\n",
              "    </tr>\n",
              "    <tr>\n",
              "      <th>9</th>\n",
              "      <td>10</td>\n",
              "      <td>Richard III (1995)</td>\n",
              "      <td>22-Jan-1996</td>\n",
              "      <td>Drama|War</td>\n",
              "    </tr>\n",
              "  </tbody>\n",
              "</table>\n",
              "</div>\n",
              "      <button class=\"colab-df-convert\" onclick=\"convertToInteractive('df-766d73e9-9093-42be-939c-15c09ec6bc5f')\"\n",
              "              title=\"Convert this dataframe to an interactive table.\"\n",
              "              style=\"display:none;\">\n",
              "        \n",
              "  <svg xmlns=\"http://www.w3.org/2000/svg\" height=\"24px\"viewBox=\"0 0 24 24\"\n",
              "       width=\"24px\">\n",
              "    <path d=\"M0 0h24v24H0V0z\" fill=\"none\"/>\n",
              "    <path d=\"M18.56 5.44l.94 2.06.94-2.06 2.06-.94-2.06-.94-.94-2.06-.94 2.06-2.06.94zm-11 1L8.5 8.5l.94-2.06 2.06-.94-2.06-.94L8.5 2.5l-.94 2.06-2.06.94zm10 10l.94 2.06.94-2.06 2.06-.94-2.06-.94-.94-2.06-.94 2.06-2.06.94z\"/><path d=\"M17.41 7.96l-1.37-1.37c-.4-.4-.92-.59-1.43-.59-.52 0-1.04.2-1.43.59L10.3 9.45l-7.72 7.72c-.78.78-.78 2.05 0 2.83L4 21.41c.39.39.9.59 1.41.59.51 0 1.02-.2 1.41-.59l7.78-7.78 2.81-2.81c.8-.78.8-2.07 0-2.86zM5.41 20L4 18.59l7.72-7.72 1.47 1.35L5.41 20z\"/>\n",
              "  </svg>\n",
              "      </button>\n",
              "      \n",
              "  <style>\n",
              "    .colab-df-container {\n",
              "      display:flex;\n",
              "      flex-wrap:wrap;\n",
              "      gap: 12px;\n",
              "    }\n",
              "\n",
              "    .colab-df-convert {\n",
              "      background-color: #E8F0FE;\n",
              "      border: none;\n",
              "      border-radius: 50%;\n",
              "      cursor: pointer;\n",
              "      display: none;\n",
              "      fill: #1967D2;\n",
              "      height: 32px;\n",
              "      padding: 0 0 0 0;\n",
              "      width: 32px;\n",
              "    }\n",
              "\n",
              "    .colab-df-convert:hover {\n",
              "      background-color: #E2EBFA;\n",
              "      box-shadow: 0px 1px 2px rgba(60, 64, 67, 0.3), 0px 1px 3px 1px rgba(60, 64, 67, 0.15);\n",
              "      fill: #174EA6;\n",
              "    }\n",
              "\n",
              "    [theme=dark] .colab-df-convert {\n",
              "      background-color: #3B4455;\n",
              "      fill: #D2E3FC;\n",
              "    }\n",
              "\n",
              "    [theme=dark] .colab-df-convert:hover {\n",
              "      background-color: #434B5C;\n",
              "      box-shadow: 0px 1px 3px 1px rgba(0, 0, 0, 0.15);\n",
              "      filter: drop-shadow(0px 1px 2px rgba(0, 0, 0, 0.3));\n",
              "      fill: #FFFFFF;\n",
              "    }\n",
              "  </style>\n",
              "\n",
              "      <script>\n",
              "        const buttonEl =\n",
              "          document.querySelector('#df-766d73e9-9093-42be-939c-15c09ec6bc5f button.colab-df-convert');\n",
              "        buttonEl.style.display =\n",
              "          google.colab.kernel.accessAllowed ? 'block' : 'none';\n",
              "\n",
              "        async function convertToInteractive(key) {\n",
              "          const element = document.querySelector('#df-766d73e9-9093-42be-939c-15c09ec6bc5f');\n",
              "          const dataTable =\n",
              "            await google.colab.kernel.invokeFunction('convertToInteractive',\n",
              "                                                     [key], {});\n",
              "          if (!dataTable) return;\n",
              "\n",
              "          const docLinkHtml = 'Like what you see? Visit the ' +\n",
              "            '<a target=\"_blank\" href=https://colab.research.google.com/notebooks/data_table.ipynb>data table notebook</a>'\n",
              "            + ' to learn more about interactive tables.';\n",
              "          element.innerHTML = '';\n",
              "          dataTable['output_type'] = 'display_data';\n",
              "          await google.colab.output.renderOutput(dataTable, element);\n",
              "          const docLink = document.createElement('div');\n",
              "          docLink.innerHTML = docLinkHtml;\n",
              "          element.appendChild(docLink);\n",
              "        }\n",
              "      </script>\n",
              "    </div>\n",
              "  </div>\n",
              "  "
            ]
          },
          "metadata": {},
          "execution_count": 6
        }
      ]
    },
    {
      "cell_type": "code",
      "source": [
        "data = pd.merge(pd.merge(ratings, users), movies)\n",
        "data.head(10000)"
      ],
      "metadata": {
        "id": "ioPBGkdWu9f4",
        "colab": {
          "base_uri": "https://localhost:8080/",
          "height": 424
        },
        "outputId": "3913a3c0-f77a-4a34-da65-480c0129d009"
      },
      "execution_count": null,
      "outputs": [
        {
          "output_type": "execute_result",
          "data": {
            "text/plain": [
              "      user_id  movie_id  rating  timestamp  age genre     occupation    zip  \\\n",
              "0         196       242       3  881250949   49     M         writer  55105   \n",
              "1         305       242       5  886307828   23     M     programmer  94086   \n",
              "2           6       242       4  883268170   42     M      executive  98101   \n",
              "3         234       242       4  891033261   60     M        retired  94702   \n",
              "4          63       242       3  875747190   31     M      marketing  75240   \n",
              "...       ...       ...     ...        ...  ...   ...            ...    ...   \n",
              "9995      889       554       4  880181976   24     M     technician  78704   \n",
              "9996      896       554       2  887161199   28     M         writer  91505   \n",
              "9997      934       554       4  891194462   61     M       engineer  22902   \n",
              "9998      186        44       5  879023529   39     F      executive  00000   \n",
              "9999       62        44       3  879374142   27     F  administrator  97214   \n",
              "\n",
              "                         title release_date            genres  \n",
              "0                 Kolya (1996)  24-Jan-1997            Comedy  \n",
              "1                 Kolya (1996)  24-Jan-1997            Comedy  \n",
              "2                 Kolya (1996)  24-Jan-1997            Comedy  \n",
              "3                 Kolya (1996)  24-Jan-1997            Comedy  \n",
              "4                 Kolya (1996)  24-Jan-1997            Comedy  \n",
              "...                        ...          ...               ...  \n",
              "9995         Waterworld (1995)  01-Jan-1995  Action|Adventure  \n",
              "9996         Waterworld (1995)  01-Jan-1995  Action|Adventure  \n",
              "9997         Waterworld (1995)  01-Jan-1995  Action|Adventure  \n",
              "9998  Dolores Claiborne (1994)  01-Jan-1994    Drama|Thriller  \n",
              "9999  Dolores Claiborne (1994)  01-Jan-1994    Drama|Thriller  \n",
              "\n",
              "[10000 rows x 11 columns]"
            ],
            "text/html": [
              "\n",
              "  <div id=\"df-0b14eefe-a025-4298-ac23-16c658f182e7\">\n",
              "    <div class=\"colab-df-container\">\n",
              "      <div>\n",
              "<style scoped>\n",
              "    .dataframe tbody tr th:only-of-type {\n",
              "        vertical-align: middle;\n",
              "    }\n",
              "\n",
              "    .dataframe tbody tr th {\n",
              "        vertical-align: top;\n",
              "    }\n",
              "\n",
              "    .dataframe thead th {\n",
              "        text-align: right;\n",
              "    }\n",
              "</style>\n",
              "<table border=\"1\" class=\"dataframe\">\n",
              "  <thead>\n",
              "    <tr style=\"text-align: right;\">\n",
              "      <th></th>\n",
              "      <th>user_id</th>\n",
              "      <th>movie_id</th>\n",
              "      <th>rating</th>\n",
              "      <th>timestamp</th>\n",
              "      <th>age</th>\n",
              "      <th>genre</th>\n",
              "      <th>occupation</th>\n",
              "      <th>zip</th>\n",
              "      <th>title</th>\n",
              "      <th>release_date</th>\n",
              "      <th>genres</th>\n",
              "    </tr>\n",
              "  </thead>\n",
              "  <tbody>\n",
              "    <tr>\n",
              "      <th>0</th>\n",
              "      <td>196</td>\n",
              "      <td>242</td>\n",
              "      <td>3</td>\n",
              "      <td>881250949</td>\n",
              "      <td>49</td>\n",
              "      <td>M</td>\n",
              "      <td>writer</td>\n",
              "      <td>55105</td>\n",
              "      <td>Kolya (1996)</td>\n",
              "      <td>24-Jan-1997</td>\n",
              "      <td>Comedy</td>\n",
              "    </tr>\n",
              "    <tr>\n",
              "      <th>1</th>\n",
              "      <td>305</td>\n",
              "      <td>242</td>\n",
              "      <td>5</td>\n",
              "      <td>886307828</td>\n",
              "      <td>23</td>\n",
              "      <td>M</td>\n",
              "      <td>programmer</td>\n",
              "      <td>94086</td>\n",
              "      <td>Kolya (1996)</td>\n",
              "      <td>24-Jan-1997</td>\n",
              "      <td>Comedy</td>\n",
              "    </tr>\n",
              "    <tr>\n",
              "      <th>2</th>\n",
              "      <td>6</td>\n",
              "      <td>242</td>\n",
              "      <td>4</td>\n",
              "      <td>883268170</td>\n",
              "      <td>42</td>\n",
              "      <td>M</td>\n",
              "      <td>executive</td>\n",
              "      <td>98101</td>\n",
              "      <td>Kolya (1996)</td>\n",
              "      <td>24-Jan-1997</td>\n",
              "      <td>Comedy</td>\n",
              "    </tr>\n",
              "    <tr>\n",
              "      <th>3</th>\n",
              "      <td>234</td>\n",
              "      <td>242</td>\n",
              "      <td>4</td>\n",
              "      <td>891033261</td>\n",
              "      <td>60</td>\n",
              "      <td>M</td>\n",
              "      <td>retired</td>\n",
              "      <td>94702</td>\n",
              "      <td>Kolya (1996)</td>\n",
              "      <td>24-Jan-1997</td>\n",
              "      <td>Comedy</td>\n",
              "    </tr>\n",
              "    <tr>\n",
              "      <th>4</th>\n",
              "      <td>63</td>\n",
              "      <td>242</td>\n",
              "      <td>3</td>\n",
              "      <td>875747190</td>\n",
              "      <td>31</td>\n",
              "      <td>M</td>\n",
              "      <td>marketing</td>\n",
              "      <td>75240</td>\n",
              "      <td>Kolya (1996)</td>\n",
              "      <td>24-Jan-1997</td>\n",
              "      <td>Comedy</td>\n",
              "    </tr>\n",
              "    <tr>\n",
              "      <th>...</th>\n",
              "      <td>...</td>\n",
              "      <td>...</td>\n",
              "      <td>...</td>\n",
              "      <td>...</td>\n",
              "      <td>...</td>\n",
              "      <td>...</td>\n",
              "      <td>...</td>\n",
              "      <td>...</td>\n",
              "      <td>...</td>\n",
              "      <td>...</td>\n",
              "      <td>...</td>\n",
              "    </tr>\n",
              "    <tr>\n",
              "      <th>9995</th>\n",
              "      <td>889</td>\n",
              "      <td>554</td>\n",
              "      <td>4</td>\n",
              "      <td>880181976</td>\n",
              "      <td>24</td>\n",
              "      <td>M</td>\n",
              "      <td>technician</td>\n",
              "      <td>78704</td>\n",
              "      <td>Waterworld (1995)</td>\n",
              "      <td>01-Jan-1995</td>\n",
              "      <td>Action|Adventure</td>\n",
              "    </tr>\n",
              "    <tr>\n",
              "      <th>9996</th>\n",
              "      <td>896</td>\n",
              "      <td>554</td>\n",
              "      <td>2</td>\n",
              "      <td>887161199</td>\n",
              "      <td>28</td>\n",
              "      <td>M</td>\n",
              "      <td>writer</td>\n",
              "      <td>91505</td>\n",
              "      <td>Waterworld (1995)</td>\n",
              "      <td>01-Jan-1995</td>\n",
              "      <td>Action|Adventure</td>\n",
              "    </tr>\n",
              "    <tr>\n",
              "      <th>9997</th>\n",
              "      <td>934</td>\n",
              "      <td>554</td>\n",
              "      <td>4</td>\n",
              "      <td>891194462</td>\n",
              "      <td>61</td>\n",
              "      <td>M</td>\n",
              "      <td>engineer</td>\n",
              "      <td>22902</td>\n",
              "      <td>Waterworld (1995)</td>\n",
              "      <td>01-Jan-1995</td>\n",
              "      <td>Action|Adventure</td>\n",
              "    </tr>\n",
              "    <tr>\n",
              "      <th>9998</th>\n",
              "      <td>186</td>\n",
              "      <td>44</td>\n",
              "      <td>5</td>\n",
              "      <td>879023529</td>\n",
              "      <td>39</td>\n",
              "      <td>F</td>\n",
              "      <td>executive</td>\n",
              "      <td>00000</td>\n",
              "      <td>Dolores Claiborne (1994)</td>\n",
              "      <td>01-Jan-1994</td>\n",
              "      <td>Drama|Thriller</td>\n",
              "    </tr>\n",
              "    <tr>\n",
              "      <th>9999</th>\n",
              "      <td>62</td>\n",
              "      <td>44</td>\n",
              "      <td>3</td>\n",
              "      <td>879374142</td>\n",
              "      <td>27</td>\n",
              "      <td>F</td>\n",
              "      <td>administrator</td>\n",
              "      <td>97214</td>\n",
              "      <td>Dolores Claiborne (1994)</td>\n",
              "      <td>01-Jan-1994</td>\n",
              "      <td>Drama|Thriller</td>\n",
              "    </tr>\n",
              "  </tbody>\n",
              "</table>\n",
              "<p>10000 rows × 11 columns</p>\n",
              "</div>\n",
              "      <button class=\"colab-df-convert\" onclick=\"convertToInteractive('df-0b14eefe-a025-4298-ac23-16c658f182e7')\"\n",
              "              title=\"Convert this dataframe to an interactive table.\"\n",
              "              style=\"display:none;\">\n",
              "        \n",
              "  <svg xmlns=\"http://www.w3.org/2000/svg\" height=\"24px\"viewBox=\"0 0 24 24\"\n",
              "       width=\"24px\">\n",
              "    <path d=\"M0 0h24v24H0V0z\" fill=\"none\"/>\n",
              "    <path d=\"M18.56 5.44l.94 2.06.94-2.06 2.06-.94-2.06-.94-.94-2.06-.94 2.06-2.06.94zm-11 1L8.5 8.5l.94-2.06 2.06-.94-2.06-.94L8.5 2.5l-.94 2.06-2.06.94zm10 10l.94 2.06.94-2.06 2.06-.94-2.06-.94-.94-2.06-.94 2.06-2.06.94z\"/><path d=\"M17.41 7.96l-1.37-1.37c-.4-.4-.92-.59-1.43-.59-.52 0-1.04.2-1.43.59L10.3 9.45l-7.72 7.72c-.78.78-.78 2.05 0 2.83L4 21.41c.39.39.9.59 1.41.59.51 0 1.02-.2 1.41-.59l7.78-7.78 2.81-2.81c.8-.78.8-2.07 0-2.86zM5.41 20L4 18.59l7.72-7.72 1.47 1.35L5.41 20z\"/>\n",
              "  </svg>\n",
              "      </button>\n",
              "      \n",
              "  <style>\n",
              "    .colab-df-container {\n",
              "      display:flex;\n",
              "      flex-wrap:wrap;\n",
              "      gap: 12px;\n",
              "    }\n",
              "\n",
              "    .colab-df-convert {\n",
              "      background-color: #E8F0FE;\n",
              "      border: none;\n",
              "      border-radius: 50%;\n",
              "      cursor: pointer;\n",
              "      display: none;\n",
              "      fill: #1967D2;\n",
              "      height: 32px;\n",
              "      padding: 0 0 0 0;\n",
              "      width: 32px;\n",
              "    }\n",
              "\n",
              "    .colab-df-convert:hover {\n",
              "      background-color: #E2EBFA;\n",
              "      box-shadow: 0px 1px 2px rgba(60, 64, 67, 0.3), 0px 1px 3px 1px rgba(60, 64, 67, 0.15);\n",
              "      fill: #174EA6;\n",
              "    }\n",
              "\n",
              "    [theme=dark] .colab-df-convert {\n",
              "      background-color: #3B4455;\n",
              "      fill: #D2E3FC;\n",
              "    }\n",
              "\n",
              "    [theme=dark] .colab-df-convert:hover {\n",
              "      background-color: #434B5C;\n",
              "      box-shadow: 0px 1px 3px 1px rgba(0, 0, 0, 0.15);\n",
              "      filter: drop-shadow(0px 1px 2px rgba(0, 0, 0, 0.3));\n",
              "      fill: #FFFFFF;\n",
              "    }\n",
              "  </style>\n",
              "\n",
              "      <script>\n",
              "        const buttonEl =\n",
              "          document.querySelector('#df-0b14eefe-a025-4298-ac23-16c658f182e7 button.colab-df-convert');\n",
              "        buttonEl.style.display =\n",
              "          google.colab.kernel.accessAllowed ? 'block' : 'none';\n",
              "\n",
              "        async function convertToInteractive(key) {\n",
              "          const element = document.querySelector('#df-0b14eefe-a025-4298-ac23-16c658f182e7');\n",
              "          const dataTable =\n",
              "            await google.colab.kernel.invokeFunction('convertToInteractive',\n",
              "                                                     [key], {});\n",
              "          if (!dataTable) return;\n",
              "\n",
              "          const docLinkHtml = 'Like what you see? Visit the ' +\n",
              "            '<a target=\"_blank\" href=https://colab.research.google.com/notebooks/data_table.ipynb>data table notebook</a>'\n",
              "            + ' to learn more about interactive tables.';\n",
              "          element.innerHTML = '';\n",
              "          dataTable['output_type'] = 'display_data';\n",
              "          await google.colab.output.renderOutput(dataTable, element);\n",
              "          const docLink = document.createElement('div');\n",
              "          docLink.innerHTML = docLinkHtml;\n",
              "          element.appendChild(docLink);\n",
              "        }\n",
              "      </script>\n",
              "    </div>\n",
              "  </div>\n",
              "  "
            ]
          },
          "metadata": {},
          "execution_count": 7
        }
      ]
    },
    {
      "cell_type": "code",
      "source": [
        "#Combien de films ont une note supérieure à 4.5 ?\n",
        "np.sum(data.rating > 4.5)"
      ],
      "metadata": {
        "id": "hvrQaMxQu9d-",
        "colab": {
          "base_uri": "https://localhost:8080/"
        },
        "outputId": "dc998353-089e-4960-cce5-26a146d9a6e5"
      },
      "execution_count": null,
      "outputs": [
        {
          "output_type": "execute_result",
          "data": {
            "text/plain": [
              "21201"
            ]
          },
          "metadata": {},
          "execution_count": 8
        }
      ]
    },
    {
      "cell_type": "code",
      "source": [
        "#Existe-t-il une différence entre les hommes et les femmes?\n",
        "np.sum(data.rating[data.genre == 'M'] > 4.5)"
      ],
      "metadata": {
        "id": "wDWm4Vivu9bY",
        "colab": {
          "base_uri": "https://localhost:8080/"
        },
        "outputId": "b67ccf96-c684-4c72-d163-52db7368490d"
      },
      "execution_count": null,
      "outputs": [
        {
          "output_type": "execute_result",
          "data": {
            "text/plain": [
              "15226"
            ]
          },
          "metadata": {},
          "execution_count": 9
        }
      ]
    },
    {
      "cell_type": "code",
      "source": [
        "np.sum(data.rating[data.genre == 'F'] > 4.5)"
      ],
      "metadata": {
        "id": "FT4DpWAxu9X9",
        "colab": {
          "base_uri": "https://localhost:8080/"
        },
        "outputId": "3468d64e-8c40-4254-f9f2-447defd88d38"
      },
      "execution_count": null,
      "outputs": [
        {
          "output_type": "execute_result",
          "data": {
            "text/plain": [
              "5975"
            ]
          },
          "metadata": {},
          "execution_count": 10
        }
      ]
    },
    {
      "cell_type": "code",
      "source": [
        "#Attention il serait mieux de regarder les proportions pour avoir une réponse plus  pertinente:\n",
        "np.sum(data.rating[data.genre == 'M'] > 4.5) * 1.0 / np.sum(data.rating[data.genre == 'M']<6)"
      ],
      "metadata": {
        "id": "rBN38hAQu9Vb",
        "colab": {
          "base_uri": "https://localhost:8080/"
        },
        "outputId": "a0859d85-3d59-40d5-f29e-6af4dce72007"
      },
      "execution_count": null,
      "outputs": [
        {
          "output_type": "execute_result",
          "data": {
            "text/plain": [
              "0.2050363587395637"
            ]
          },
          "metadata": {},
          "execution_count": 11
        }
      ]
    },
    {
      "cell_type": "code",
      "source": [
        "np.sum(data.rating[data.genre == 'F'] > 4.5) * 1.0 / np.sum(data.rating[data.genre == 'F']<6)"
      ],
      "metadata": {
        "id": "bfRJqDjzu9S2",
        "colab": {
          "base_uri": "https://localhost:8080/"
        },
        "outputId": "28ee96ff-d7eb-4e8a-e6f9-81f18f7de7bf"
      },
      "execution_count": null,
      "outputs": [
        {
          "output_type": "execute_result",
          "data": {
            "text/plain": [
              "0.23212898212898214"
            ]
          },
          "metadata": {},
          "execution_count": 12
        }
      ]
    },
    {
      "cell_type": "code",
      "source": [
        "#Combien de films ont une note médiane au dessus de 4,5 parmis les hommes de plus de 30 ans? parmis les femmes de plus de 30 ans?\n",
        "np.sum(data[(data.genre == 'M') & (data.age >= 30)].groupby('movie_id', axis=0)['rating'].median() >= 4.5)"
      ],
      "metadata": {
        "id": "N9-3lvOXu9Jo",
        "colab": {
          "base_uri": "https://localhost:8080/"
        },
        "outputId": "d31d5f63-3a96-470a-e1bf-7e41a66afac1"
      },
      "execution_count": null,
      "outputs": [
        {
          "output_type": "execute_result",
          "data": {
            "text/plain": [
              "62"
            ]
          },
          "metadata": {},
          "execution_count": 14
        }
      ]
    },
    {
      "cell_type": "code",
      "source": [
        "np.sum(data[(data.genre == 'F') & (data.age >= 30)].groupby('movie_id', axis=0)['rating'].median() >= 4.5)"
      ],
      "metadata": {
        "id": "MDkgOGlgvWqf",
        "colab": {
          "base_uri": "https://localhost:8080/"
        },
        "outputId": "2455434d-ca84-40fc-efdb-59a6fe86fcdb"
      },
      "execution_count": null,
      "outputs": [
        {
          "output_type": "execute_result",
          "data": {
            "text/plain": [
              "89"
            ]
          },
          "metadata": {},
          "execution_count": 13
        }
      ]
    },
    {
      "cell_type": "code",
      "source": [
        "#Quelles sont les films les plus populaires?\n",
        "data.groupby('movie_id', axis=0)['rating'].mean().nlargest(15)"
      ],
      "metadata": {
        "id": "h2kms1ahvWoS",
        "colab": {
          "base_uri": "https://localhost:8080/"
        },
        "outputId": "4e9e2cb4-37f9-4ecf-bb58-565452faf3aa"
      },
      "execution_count": null,
      "outputs": [
        {
          "output_type": "execute_result",
          "data": {
            "text/plain": [
              "movie_id\n",
              "814     5.000\n",
              "1122    5.000\n",
              "1189    5.000\n",
              "1201    5.000\n",
              "1293    5.000\n",
              "1467    5.000\n",
              "1500    5.000\n",
              "1536    5.000\n",
              "1599    5.000\n",
              "1653    5.000\n",
              "1449    4.625\n",
              "119     4.500\n",
              "1398    4.500\n",
              "1594    4.500\n",
              "1642    4.500\n",
              "Name: rating, dtype: float64"
            ]
          },
          "metadata": {},
          "execution_count": 21
        }
      ]
    },
    {
      "cell_type": "code",
      "source": [
        "data[data.movie_id == 814]"
      ],
      "metadata": {
        "id": "oJs7-hyBvWlY",
        "colab": {
          "base_uri": "https://localhost:8080/",
          "height": 81
        },
        "outputId": "aeee6906-0642-4440-bfbb-2099a09d32c7"
      },
      "execution_count": null,
      "outputs": [
        {
          "output_type": "execute_result",
          "data": {
            "text/plain": [
              "       user_id  movie_id  rating  timestamp  age genre occupation    zip  \\\n",
              "98673       13       814       5  886302261   47     M   educator  29206   \n",
              "\n",
              "                               title release_date       genres  \n",
              "98673  Great Day in Harlem, A (1994)  01-Jan-1994  Documentary  "
            ],
            "text/html": [
              "\n",
              "  <div id=\"df-771683eb-f9b5-486d-aabc-2f17220fa3bb\">\n",
              "    <div class=\"colab-df-container\">\n",
              "      <div>\n",
              "<style scoped>\n",
              "    .dataframe tbody tr th:only-of-type {\n",
              "        vertical-align: middle;\n",
              "    }\n",
              "\n",
              "    .dataframe tbody tr th {\n",
              "        vertical-align: top;\n",
              "    }\n",
              "\n",
              "    .dataframe thead th {\n",
              "        text-align: right;\n",
              "    }\n",
              "</style>\n",
              "<table border=\"1\" class=\"dataframe\">\n",
              "  <thead>\n",
              "    <tr style=\"text-align: right;\">\n",
              "      <th></th>\n",
              "      <th>user_id</th>\n",
              "      <th>movie_id</th>\n",
              "      <th>rating</th>\n",
              "      <th>timestamp</th>\n",
              "      <th>age</th>\n",
              "      <th>genre</th>\n",
              "      <th>occupation</th>\n",
              "      <th>zip</th>\n",
              "      <th>title</th>\n",
              "      <th>release_date</th>\n",
              "      <th>genres</th>\n",
              "    </tr>\n",
              "  </thead>\n",
              "  <tbody>\n",
              "    <tr>\n",
              "      <th>98673</th>\n",
              "      <td>13</td>\n",
              "      <td>814</td>\n",
              "      <td>5</td>\n",
              "      <td>886302261</td>\n",
              "      <td>47</td>\n",
              "      <td>M</td>\n",
              "      <td>educator</td>\n",
              "      <td>29206</td>\n",
              "      <td>Great Day in Harlem, A (1994)</td>\n",
              "      <td>01-Jan-1994</td>\n",
              "      <td>Documentary</td>\n",
              "    </tr>\n",
              "  </tbody>\n",
              "</table>\n",
              "</div>\n",
              "      <button class=\"colab-df-convert\" onclick=\"convertToInteractive('df-771683eb-f9b5-486d-aabc-2f17220fa3bb')\"\n",
              "              title=\"Convert this dataframe to an interactive table.\"\n",
              "              style=\"display:none;\">\n",
              "        \n",
              "  <svg xmlns=\"http://www.w3.org/2000/svg\" height=\"24px\"viewBox=\"0 0 24 24\"\n",
              "       width=\"24px\">\n",
              "    <path d=\"M0 0h24v24H0V0z\" fill=\"none\"/>\n",
              "    <path d=\"M18.56 5.44l.94 2.06.94-2.06 2.06-.94-2.06-.94-.94-2.06-.94 2.06-2.06.94zm-11 1L8.5 8.5l.94-2.06 2.06-.94-2.06-.94L8.5 2.5l-.94 2.06-2.06.94zm10 10l.94 2.06.94-2.06 2.06-.94-2.06-.94-.94-2.06-.94 2.06-2.06.94z\"/><path d=\"M17.41 7.96l-1.37-1.37c-.4-.4-.92-.59-1.43-.59-.52 0-1.04.2-1.43.59L10.3 9.45l-7.72 7.72c-.78.78-.78 2.05 0 2.83L4 21.41c.39.39.9.59 1.41.59.51 0 1.02-.2 1.41-.59l7.78-7.78 2.81-2.81c.8-.78.8-2.07 0-2.86zM5.41 20L4 18.59l7.72-7.72 1.47 1.35L5.41 20z\"/>\n",
              "  </svg>\n",
              "      </button>\n",
              "      \n",
              "  <style>\n",
              "    .colab-df-container {\n",
              "      display:flex;\n",
              "      flex-wrap:wrap;\n",
              "      gap: 12px;\n",
              "    }\n",
              "\n",
              "    .colab-df-convert {\n",
              "      background-color: #E8F0FE;\n",
              "      border: none;\n",
              "      border-radius: 50%;\n",
              "      cursor: pointer;\n",
              "      display: none;\n",
              "      fill: #1967D2;\n",
              "      height: 32px;\n",
              "      padding: 0 0 0 0;\n",
              "      width: 32px;\n",
              "    }\n",
              "\n",
              "    .colab-df-convert:hover {\n",
              "      background-color: #E2EBFA;\n",
              "      box-shadow: 0px 1px 2px rgba(60, 64, 67, 0.3), 0px 1px 3px 1px rgba(60, 64, 67, 0.15);\n",
              "      fill: #174EA6;\n",
              "    }\n",
              "\n",
              "    [theme=dark] .colab-df-convert {\n",
              "      background-color: #3B4455;\n",
              "      fill: #D2E3FC;\n",
              "    }\n",
              "\n",
              "    [theme=dark] .colab-df-convert:hover {\n",
              "      background-color: #434B5C;\n",
              "      box-shadow: 0px 1px 3px 1px rgba(0, 0, 0, 0.15);\n",
              "      filter: drop-shadow(0px 1px 2px rgba(0, 0, 0, 0.3));\n",
              "      fill: #FFFFFF;\n",
              "    }\n",
              "  </style>\n",
              "\n",
              "      <script>\n",
              "        const buttonEl =\n",
              "          document.querySelector('#df-771683eb-f9b5-486d-aabc-2f17220fa3bb button.colab-df-convert');\n",
              "        buttonEl.style.display =\n",
              "          google.colab.kernel.accessAllowed ? 'block' : 'none';\n",
              "\n",
              "        async function convertToInteractive(key) {\n",
              "          const element = document.querySelector('#df-771683eb-f9b5-486d-aabc-2f17220fa3bb');\n",
              "          const dataTable =\n",
              "            await google.colab.kernel.invokeFunction('convertToInteractive',\n",
              "                                                     [key], {});\n",
              "          if (!dataTable) return;\n",
              "\n",
              "          const docLinkHtml = 'Like what you see? Visit the ' +\n",
              "            '<a target=\"_blank\" href=https://colab.research.google.com/notebooks/data_table.ipynb>data table notebook</a>'\n",
              "            + ' to learn more about interactive tables.';\n",
              "          element.innerHTML = '';\n",
              "          dataTable['output_type'] = 'display_data';\n",
              "          await google.colab.output.renderOutput(dataTable, element);\n",
              "          const docLink = document.createElement('div');\n",
              "          docLink.innerHTML = docLinkHtml;\n",
              "          element.appendChild(docLink);\n",
              "        }\n",
              "      </script>\n",
              "    </div>\n",
              "  </div>\n",
              "  "
            ]
          },
          "metadata": {},
          "execution_count": 20
        }
      ]
    },
    {
      "cell_type": "code",
      "source": [
        "#Il y a un effet taille certain... ici seule une personne a noté le meilleur film. Maintenant regardons ceux qui\n",
        "#sont \"suffisament\" populaires:\n",
        "data.groupby('movie_id', axis=0)['rating'].count().head()"
      ],
      "metadata": {
        "id": "UA-lb7njvWjb",
        "colab": {
          "base_uri": "https://localhost:8080/"
        },
        "outputId": "582bb52e-e248-4e92-c6fe-ef489a532036"
      },
      "execution_count": null,
      "outputs": [
        {
          "output_type": "execute_result",
          "data": {
            "text/plain": [
              "movie_id\n",
              "1    452\n",
              "2    131\n",
              "3     90\n",
              "4    209\n",
              "5     86\n",
              "Name: rating, dtype: int64"
            ]
          },
          "metadata": {},
          "execution_count": 19
        }
      ]
    },
    {
      "cell_type": "code",
      "source": [
        "# dataframe contenant les films les plus populaire ainsi que la moyenne des notes qui les sont attribuées\n",
        "data2 = pd.concat([data.groupby('movie_id', axis=0)['rating'].mean(),\n",
        "                   data.groupby('movie_id', axis=0)['rating'].count()], axis=1)\n",
        "data2.columns = ['mean_rating', 'n_rating']\n",
        "data2.head()"
      ],
      "metadata": {
        "id": "iKoNBkj9vWhH",
        "colab": {
          "base_uri": "https://localhost:8080/",
          "height": 238
        },
        "outputId": "8873caf9-f75a-4731-cffe-f61ce88eab9d"
      },
      "execution_count": null,
      "outputs": [
        {
          "output_type": "execute_result",
          "data": {
            "text/plain": [
              "          mean_rating  n_rating\n",
              "movie_id                       \n",
              "1            3.878319       452\n",
              "2            3.206107       131\n",
              "3            3.033333        90\n",
              "4            3.550239       209\n",
              "5            3.302326        86"
            ],
            "text/html": [
              "\n",
              "  <div id=\"df-929a4a26-98bd-4df1-9a4b-0cd0eca8f57c\">\n",
              "    <div class=\"colab-df-container\">\n",
              "      <div>\n",
              "<style scoped>\n",
              "    .dataframe tbody tr th:only-of-type {\n",
              "        vertical-align: middle;\n",
              "    }\n",
              "\n",
              "    .dataframe tbody tr th {\n",
              "        vertical-align: top;\n",
              "    }\n",
              "\n",
              "    .dataframe thead th {\n",
              "        text-align: right;\n",
              "    }\n",
              "</style>\n",
              "<table border=\"1\" class=\"dataframe\">\n",
              "  <thead>\n",
              "    <tr style=\"text-align: right;\">\n",
              "      <th></th>\n",
              "      <th>mean_rating</th>\n",
              "      <th>n_rating</th>\n",
              "    </tr>\n",
              "    <tr>\n",
              "      <th>movie_id</th>\n",
              "      <th></th>\n",
              "      <th></th>\n",
              "    </tr>\n",
              "  </thead>\n",
              "  <tbody>\n",
              "    <tr>\n",
              "      <th>1</th>\n",
              "      <td>3.878319</td>\n",
              "      <td>452</td>\n",
              "    </tr>\n",
              "    <tr>\n",
              "      <th>2</th>\n",
              "      <td>3.206107</td>\n",
              "      <td>131</td>\n",
              "    </tr>\n",
              "    <tr>\n",
              "      <th>3</th>\n",
              "      <td>3.033333</td>\n",
              "      <td>90</td>\n",
              "    </tr>\n",
              "    <tr>\n",
              "      <th>4</th>\n",
              "      <td>3.550239</td>\n",
              "      <td>209</td>\n",
              "    </tr>\n",
              "    <tr>\n",
              "      <th>5</th>\n",
              "      <td>3.302326</td>\n",
              "      <td>86</td>\n",
              "    </tr>\n",
              "  </tbody>\n",
              "</table>\n",
              "</div>\n",
              "      <button class=\"colab-df-convert\" onclick=\"convertToInteractive('df-929a4a26-98bd-4df1-9a4b-0cd0eca8f57c')\"\n",
              "              title=\"Convert this dataframe to an interactive table.\"\n",
              "              style=\"display:none;\">\n",
              "        \n",
              "  <svg xmlns=\"http://www.w3.org/2000/svg\" height=\"24px\"viewBox=\"0 0 24 24\"\n",
              "       width=\"24px\">\n",
              "    <path d=\"M0 0h24v24H0V0z\" fill=\"none\"/>\n",
              "    <path d=\"M18.56 5.44l.94 2.06.94-2.06 2.06-.94-2.06-.94-.94-2.06-.94 2.06-2.06.94zm-11 1L8.5 8.5l.94-2.06 2.06-.94-2.06-.94L8.5 2.5l-.94 2.06-2.06.94zm10 10l.94 2.06.94-2.06 2.06-.94-2.06-.94-.94-2.06-.94 2.06-2.06.94z\"/><path d=\"M17.41 7.96l-1.37-1.37c-.4-.4-.92-.59-1.43-.59-.52 0-1.04.2-1.43.59L10.3 9.45l-7.72 7.72c-.78.78-.78 2.05 0 2.83L4 21.41c.39.39.9.59 1.41.59.51 0 1.02-.2 1.41-.59l7.78-7.78 2.81-2.81c.8-.78.8-2.07 0-2.86zM5.41 20L4 18.59l7.72-7.72 1.47 1.35L5.41 20z\"/>\n",
              "  </svg>\n",
              "      </button>\n",
              "      \n",
              "  <style>\n",
              "    .colab-df-container {\n",
              "      display:flex;\n",
              "      flex-wrap:wrap;\n",
              "      gap: 12px;\n",
              "    }\n",
              "\n",
              "    .colab-df-convert {\n",
              "      background-color: #E8F0FE;\n",
              "      border: none;\n",
              "      border-radius: 50%;\n",
              "      cursor: pointer;\n",
              "      display: none;\n",
              "      fill: #1967D2;\n",
              "      height: 32px;\n",
              "      padding: 0 0 0 0;\n",
              "      width: 32px;\n",
              "    }\n",
              "\n",
              "    .colab-df-convert:hover {\n",
              "      background-color: #E2EBFA;\n",
              "      box-shadow: 0px 1px 2px rgba(60, 64, 67, 0.3), 0px 1px 3px 1px rgba(60, 64, 67, 0.15);\n",
              "      fill: #174EA6;\n",
              "    }\n",
              "\n",
              "    [theme=dark] .colab-df-convert {\n",
              "      background-color: #3B4455;\n",
              "      fill: #D2E3FC;\n",
              "    }\n",
              "\n",
              "    [theme=dark] .colab-df-convert:hover {\n",
              "      background-color: #434B5C;\n",
              "      box-shadow: 0px 1px 3px 1px rgba(0, 0, 0, 0.15);\n",
              "      filter: drop-shadow(0px 1px 2px rgba(0, 0, 0, 0.3));\n",
              "      fill: #FFFFFF;\n",
              "    }\n",
              "  </style>\n",
              "\n",
              "      <script>\n",
              "        const buttonEl =\n",
              "          document.querySelector('#df-929a4a26-98bd-4df1-9a4b-0cd0eca8f57c button.colab-df-convert');\n",
              "        buttonEl.style.display =\n",
              "          google.colab.kernel.accessAllowed ? 'block' : 'none';\n",
              "\n",
              "        async function convertToInteractive(key) {\n",
              "          const element = document.querySelector('#df-929a4a26-98bd-4df1-9a4b-0cd0eca8f57c');\n",
              "          const dataTable =\n",
              "            await google.colab.kernel.invokeFunction('convertToInteractive',\n",
              "                                                     [key], {});\n",
              "          if (!dataTable) return;\n",
              "\n",
              "          const docLinkHtml = 'Like what you see? Visit the ' +\n",
              "            '<a target=\"_blank\" href=https://colab.research.google.com/notebooks/data_table.ipynb>data table notebook</a>'\n",
              "            + ' to learn more about interactive tables.';\n",
              "          element.innerHTML = '';\n",
              "          dataTable['output_type'] = 'display_data';\n",
              "          await google.colab.output.renderOutput(dataTable, element);\n",
              "          const docLink = document.createElement('div');\n",
              "          docLink.innerHTML = docLinkHtml;\n",
              "          element.appendChild(docLink);\n",
              "        }\n",
              "      </script>\n",
              "    </div>\n",
              "  </div>\n",
              "  "
            ]
          },
          "metadata": {},
          "execution_count": 18
        }
      ]
    },
    {
      "cell_type": "code",
      "source": [
        "data.rating.hist(bins=5, align='left', range=[1, 6]) #l'histogramme de toutes les notes"
      ],
      "metadata": {
        "id": "IKs0aaJgvTnr",
        "colab": {
          "base_uri": "https://localhost:8080/",
          "height": 447
        },
        "outputId": "0990b6c2-5280-4b8e-bd4c-d26fc9086593"
      },
      "execution_count": null,
      "outputs": [
        {
          "output_type": "execute_result",
          "data": {
            "text/plain": [
              "<Axes: >"
            ]
          },
          "metadata": {},
          "execution_count": 17
        },
        {
          "output_type": "display_data",
          "data": {
            "text/plain": [
              "<Figure size 640x480 with 1 Axes>"
            ],
            "image/png": "[encoded data removed]"
          },
          "metadata": {}
        }
      ]
    },
    {
      "cell_type": "code",
      "source": [
        "#Afficher l'histogramme des notes moyennes des films.\n",
        "data.groupby('movie_id', axis=0)['rating'].mean().hist(bins=20)"
      ],
      "metadata": {
        "id": "SbaGv0-yvgOi",
        "colab": {
          "base_uri": "https://localhost:8080/",
          "height": 447
        },
        "outputId": "3647455b-532d-411c-c6cb-3e20e6520788"
      },
      "execution_count": null,
      "outputs": [
        {
          "output_type": "execute_result",
          "data": {
            "text/plain": [
              "<Axes: >"
            ]
          },
          "metadata": {},
          "execution_count": 16
        },
        {
          "output_type": "display_data",
          "data": {
            "text/plain": [
              "<Figure size 640x480 with 1 Axes>"
            ],
            "image/png": "[encoded data removed]"
          },
          "metadata": {}
        }
      ]
    },
    {
      "cell_type": "code",
      "source": [
        "#Affichage l'histogramme du nombre de notes reçues par chaque film\n",
        "data.groupby('movie_id', axis=0)['rating'].count().hist(bins=10)"
      ],
      "metadata": {
        "id": "oQBRAmVyvgMb",
        "colab": {
          "base_uri": "https://localhost:8080/",
          "height": 451
        },
        "outputId": "9f908660-a0e9-4dcb-92a0-77ff7822fdf7"
      },
      "execution_count": null,
      "outputs": [
        {
          "output_type": "execute_result",
          "data": {
            "text/plain": [
              "<Axes: >"
            ]
          },
          "metadata": {},
          "execution_count": 15
        },
        {
          "output_type": "display_data",
          "data": {
            "text/plain": [
              "<Figure size 640x480 with 1 Axes>"
            ],
            "image/png": "[encoded data removed]"
          },
          "metadata": {}
        }
      ]
    },
    {
      "cell_type": "code",
      "source": [
        "#La distribution des notes dépent-elle du sexe?\n",
        "data[data.genre == 'M'].groupby('movie_id', axis=0)['rating'].mean().plot(kind='hist', alpha=0.9, color='b', bins=15)\n",
        "data[data.genre == 'F'].groupby('movie_id', axis=0)['rating'].mean().plot(kind='hist', alpha=0.9, color='pink', bins=15)\n",
        "\n",
        "#En moyenne les hommes notes mieux que les femmes"
      ],
      "metadata": {
        "id": "rBhzOawavTlS",
        "colab": {
          "base_uri": "https://localhost:8080/",
          "height": 451
        },
        "outputId": "5222929e-8ff0-4156-d8b1-68ca61ee4cf3"
      },
      "execution_count": null,
      "outputs": [
        {
          "output_type": "execute_result",
          "data": {
            "text/plain": [
              "<Axes: ylabel='Frequency'>"
            ]
          },
          "metadata": {},
          "execution_count": 22
        },
        {
          "output_type": "display_data",
          "data": {
            "text/plain": [
              "<Figure size 640x480 with 1 Axes>"
            ],
            "image/png": "[encoded data removed]"
          },
          "metadata": {}
        }
      ]
    },
    {
      "cell_type": "code",
      "source": [
        "#Afficher l'histogramme des notes des films qui ont été notés plus de seuil_pop = 30 fois.\n",
        "seuil_pop = 50\n",
        "map_id_to_count = data.groupby('movie_id')['rating'].count().to_dict()\n",
        "data['movie_count'] = data['movie_id'].map(map_id_to_count)   # rajoute une variable comptant le nombre de votes par film"
      ],
      "metadata": {
        "id": "DoRP9RHZvThw"
      },
      "execution_count": null,
      "outputs": []
    },
    {
      "cell_type": "code",
      "source": [
        "# changer kde par hist pour retrouver un histogramme et non une estimation de la densite\n",
        "data[data.movie_count >= seuil_pop].groupby('movie_id', axis=0)['rating'].mean().plot(kind='kde', color='b')\n",
        "data[data.movie_count <= seuil_pop].groupby('movie_id', axis=0)['rating'].mean().plot(kind='kde', color='g')"
      ],
      "metadata": {
        "id": "bcnpMWiAvTeq",
        "colab": {
          "base_uri": "https://localhost:8080/",
          "height": 447
        },
        "outputId": "5d3598dd-72ae-46df-a15a-8c28c5d6d61d"
      },
      "execution_count": null,
      "outputs": [
        {
          "output_type": "execute_result",
          "data": {
            "text/plain": [
              "<Axes: ylabel='Density'>"
            ]
          },
          "metadata": {},
          "execution_count": 24
        },
        {
          "output_type": "display_data",
          "data": {
            "text/plain": [
              "<Figure size 640x480 with 1 Axes>"
            ],
            "image/png": "[encoded data removed]"
          },
          "metadata": {}
        }
      ]
    },
    {
      "cell_type": "code",
      "source": [
        "#Afficher un \"scatter plot\" des notes moyennes pour les hommes contre les notes des femmes pour chaque film\n",
        "#(notés plus de seuil_pop = 100 fois).\n",
        "seuil_pop = 100\n",
        "data_popular = data[data.movie_count >= seuil_pop]\n",
        "mean_ratings = data_popular.pivot_table(values='rating', index='title',columns='genre', aggfunc='mean')"
      ],
      "metadata": {
        "id": "6U0eQgCyvo0f"
      },
      "execution_count": null,
      "outputs": []
    },
    {
      "cell_type": "code",
      "source": [
        "mean_ratings.sort_values('F', ascending=False).head(10) #top 10 féminin"
      ],
      "metadata": {
        "id": "8NH6eaFOvorC",
        "colab": {
          "base_uri": "https://localhost:8080/",
          "height": 394
        },
        "outputId": "872fad2a-924f-429f-ac86-4e2d1b354c88"
      },
      "execution_count": null,
      "outputs": [
        {
          "output_type": "execute_result",
          "data": {
            "text/plain": [
              "genre                                    F         M\n",
              "title                                               \n",
              "Schindler's List (1993)           4.632911  4.406393\n",
              "Close Shave, A (1995)             4.631579  4.462366\n",
              "Shawshank Redemption, The (1994)  4.562500  4.410959\n",
              "Wrong Trousers, The (1993)        4.444444  4.472527\n",
              "Sling Blade (1996)                4.411765  4.127451\n",
              "Secrets & Lies (1996)             4.407407  4.194444\n",
              "Casablanca (1942)                 4.400000  4.473404\n",
              "Much Ado About Nothing (1993)     4.381818  3.917355\n",
              "Good Will Hunting (1997)          4.355932  4.223022\n",
              "Rear Window (1954)                4.351852  4.400000"
            ],
            "text/html": [
              "\n",
              "  <div id=\"df-3679ebfe-038c-4ba6-9adf-bcb84d3f2205\">\n",
              "    <div class=\"colab-df-container\">\n",
              "      <div>\n",
              "<style scoped>\n",
              "    .dataframe tbody tr th:only-of-type {\n",
              "        vertical-align: middle;\n",
              "    }\n",
              "\n",
              "    .dataframe tbody tr th {\n",
              "        vertical-align: top;\n",
              "    }\n",
              "\n",
              "    .dataframe thead th {\n",
              "        text-align: right;\n",
              "    }\n",
              "</style>\n",
              "<table border=\"1\" class=\"dataframe\">\n",
              "  <thead>\n",
              "    <tr style=\"text-align: right;\">\n",
              "      <th>genre</th>\n",
              "      <th>F</th>\n",
              "      <th>M</th>\n",
              "    </tr>\n",
              "    <tr>\n",
              "      <th>title</th>\n",
              "      <th></th>\n",
              "      <th></th>\n",
              "    </tr>\n",
              "  </thead>\n",
              "  <tbody>\n",
              "    <tr>\n",
              "      <th>Schindler's List (1993)</th>\n",
              "      <td>4.632911</td>\n",
              "      <td>4.406393</td>\n",
              "    </tr>\n",
              "    <tr>\n",
              "      <th>Close Shave, A (1995)</th>\n",
              "      <td>4.631579</td>\n",
              "      <td>4.462366</td>\n",
              "    </tr>\n",
              "    <tr>\n",
              "      <th>Shawshank Redemption, The (1994)</th>\n",
              "      <td>4.562500</td>\n",
              "      <td>4.410959</td>\n",
              "    </tr>\n",
              "    <tr>\n",
              "      <th>Wrong Trousers, The (1993)</th>\n",
              "      <td>4.444444</td>\n",
              "      <td>4.472527</td>\n",
              "    </tr>\n",
              "    <tr>\n",
              "      <th>Sling Blade (1996)</th>\n",
              "      <td>4.411765</td>\n",
              "      <td>4.127451</td>\n",
              "    </tr>\n",
              "    <tr>\n",
              "      <th>Secrets &amp; Lies (1996)</th>\n",
              "      <td>4.407407</td>\n",
              "      <td>4.194444</td>\n",
              "    </tr>\n",
              "    <tr>\n",
              "      <th>Casablanca (1942)</th>\n",
              "      <td>4.400000</td>\n",
              "      <td>4.473404</td>\n",
              "    </tr>\n",
              "    <tr>\n",
              "      <th>Much Ado About Nothing (1993)</th>\n",
              "      <td>4.381818</td>\n",
              "      <td>3.917355</td>\n",
              "    </tr>\n",
              "    <tr>\n",
              "      <th>Good Will Hunting (1997)</th>\n",
              "      <td>4.355932</td>\n",
              "      <td>4.223022</td>\n",
              "    </tr>\n",
              "    <tr>\n",
              "      <th>Rear Window (1954)</th>\n",
              "      <td>4.351852</td>\n",
              "      <td>4.400000</td>\n",
              "    </tr>\n",
              "  </tbody>\n",
              "</table>\n",
              "</div>\n",
              "      <button class=\"colab-df-convert\" onclick=\"convertToInteractive('df-3679ebfe-038c-4ba6-9adf-bcb84d3f2205')\"\n",
              "              title=\"Convert this dataframe to an interactive table.\"\n",
              "              style=\"display:none;\">\n",
              "        \n",
              "  <svg xmlns=\"http://www.w3.org/2000/svg\" height=\"24px\"viewBox=\"0 0 24 24\"\n",
              "       width=\"24px\">\n",
              "    <path d=\"M0 0h24v24H0V0z\" fill=\"none\"/>\n",
              "    <path d=\"M18.56 5.44l.94 2.06.94-2.06 2.06-.94-2.06-.94-.94-2.06-.94 2.06-2.06.94zm-11 1L8.5 8.5l.94-2.06 2.06-.94-2.06-.94L8.5 2.5l-.94 2.06-2.06.94zm10 10l.94 2.06.94-2.06 2.06-.94-2.06-.94-.94-2.06-.94 2.06-2.06.94z\"/><path d=\"M17.41 7.96l-1.37-1.37c-.4-.4-.92-.59-1.43-.59-.52 0-1.04.2-1.43.59L10.3 9.45l-7.72 7.72c-.78.78-.78 2.05 0 2.83L4 21.41c.39.39.9.59 1.41.59.51 0 1.02-.2 1.41-.59l7.78-7.78 2.81-2.81c.8-.78.8-2.07 0-2.86zM5.41 20L4 18.59l7.72-7.72 1.47 1.35L5.41 20z\"/>\n",
              "  </svg>\n",
              "      </button>\n",
              "      \n",
              "  <style>\n",
              "    .colab-df-container {\n",
              "      display:flex;\n",
              "      flex-wrap:wrap;\n",
              "      gap: 12px;\n",
              "    }\n",
              "\n",
              "    .colab-df-convert {\n",
              "      background-color: #E8F0FE;\n",
              "      border: none;\n",
              "      border-radius: 50%;\n",
              "      cursor: pointer;\n",
              "      display: none;\n",
              "      fill: #1967D2;\n",
              "      height: 32px;\n",
              "      padding: 0 0 0 0;\n",
              "      width: 32px;\n",
              "    }\n",
              "\n",
              "    .colab-df-convert:hover {\n",
              "      background-color: #E2EBFA;\n",
              "      box-shadow: 0px 1px 2px rgba(60, 64, 67, 0.3), 0px 1px 3px 1px rgba(60, 64, 67, 0.15);\n",
              "      fill: #174EA6;\n",
              "    }\n",
              "\n",
              "    [theme=dark] .colab-df-convert {\n",
              "      background-color: #3B4455;\n",
              "      fill: #D2E3FC;\n",
              "    }\n",
              "\n",
              "    [theme=dark] .colab-df-convert:hover {\n",
              "      background-color: #434B5C;\n",
              "      box-shadow: 0px 1px 3px 1px rgba(0, 0, 0, 0.15);\n",
              "      filter: drop-shadow(0px 1px 2px rgba(0, 0, 0, 0.3));\n",
              "      fill: #FFFFFF;\n",
              "    }\n",
              "  </style>\n",
              "\n",
              "      <script>\n",
              "        const buttonEl =\n",
              "          document.querySelector('#df-3679ebfe-038c-4ba6-9adf-bcb84d3f2205 button.colab-df-convert');\n",
              "        buttonEl.style.display =\n",
              "          google.colab.kernel.accessAllowed ? 'block' : 'none';\n",
              "\n",
              "        async function convertToInteractive(key) {\n",
              "          const element = document.querySelector('#df-3679ebfe-038c-4ba6-9adf-bcb84d3f2205');\n",
              "          const dataTable =\n",
              "            await google.colab.kernel.invokeFunction('convertToInteractive',\n",
              "                                                     [key], {});\n",
              "          if (!dataTable) return;\n",
              "\n",
              "          const docLinkHtml = 'Like what you see? Visit the ' +\n",
              "            '<a target=\"_blank\" href=https://colab.research.google.com/notebooks/data_table.ipynb>data table notebook</a>'\n",
              "            + ' to learn more about interactive tables.';\n",
              "          element.innerHTML = '';\n",
              "          dataTable['output_type'] = 'display_data';\n",
              "          await google.colab.output.renderOutput(dataTable, element);\n",
              "          const docLink = document.createElement('div');\n",
              "          docLink.innerHTML = docLinkHtml;\n",
              "          element.appendChild(docLink);\n",
              "        }\n",
              "      </script>\n",
              "    </div>\n",
              "  </div>\n",
              "  "
            ]
          },
          "metadata": {},
          "execution_count": 26
        }
      ]
    },
    {
      "cell_type": "code",
      "source": [
        "mean_ratings.sort_values('M', ascending=False).head(10) #top 10 masculin"
      ],
      "metadata": {
        "id": "hXUXvZ1Lvoox",
        "colab": {
          "base_uri": "https://localhost:8080/",
          "height": 394
        },
        "outputId": "57b7febd-eba3-4c53-fbf6-f664a34da9f3"
      },
      "execution_count": null,
      "outputs": [
        {
          "output_type": "execute_result",
          "data": {
            "text/plain": [
              "genre                                    F         M\n",
              "title                                               \n",
              "Casablanca (1942)                 4.400000  4.473404\n",
              "Wrong Trousers, The (1993)        4.444444  4.472527\n",
              "Close Shave, A (1995)             4.631579  4.462366\n",
              "Shawshank Redemption, The (1994)  4.562500  4.410959\n",
              "Schindler's List (1993)           4.632911  4.406393\n",
              "Rear Window (1954)                4.351852  4.400000\n",
              "Usual Suspects, The (1995)        4.333333  4.399061\n",
              "Star Wars (1977)                  4.245033  4.398148\n",
              "12 Angry Men (1957)               4.269231  4.363636\n",
              "Godfather, The (1972)             4.133333  4.334416"
            ],
            "text/html": [
              "\n",
              "  <div id=\"df-784e93ea-2f46-4a9d-adf2-725eea533c32\">\n",
              "    <div class=\"colab-df-container\">\n",
              "      <div>\n",
              "<style scoped>\n",
              "    .dataframe tbody tr th:only-of-type {\n",
              "        vertical-align: middle;\n",
              "    }\n",
              "\n",
              "    .dataframe tbody tr th {\n",
              "        vertical-align: top;\n",
              "    }\n",
              "\n",
              "    .dataframe thead th {\n",
              "        text-align: right;\n",
              "    }\n",
              "</style>\n",
              "<table border=\"1\" class=\"dataframe\">\n",
              "  <thead>\n",
              "    <tr style=\"text-align: right;\">\n",
              "      <th>genre</th>\n",
              "      <th>F</th>\n",
              "      <th>M</th>\n",
              "    </tr>\n",
              "    <tr>\n",
              "      <th>title</th>\n",
              "      <th></th>\n",
              "      <th></th>\n",
              "    </tr>\n",
              "  </thead>\n",
              "  <tbody>\n",
              "    <tr>\n",
              "      <th>Casablanca (1942)</th>\n",
              "      <td>4.400000</td>\n",
              "      <td>4.473404</td>\n",
              "    </tr>\n",
              "    <tr>\n",
              "      <th>Wrong Trousers, The (1993)</th>\n",
              "      <td>4.444444</td>\n",
              "      <td>4.472527</td>\n",
              "    </tr>\n",
              "    <tr>\n",
              "      <th>Close Shave, A (1995)</th>\n",
              "      <td>4.631579</td>\n",
              "      <td>4.462366</td>\n",
              "    </tr>\n",
              "    <tr>\n",
              "      <th>Shawshank Redemption, The (1994)</th>\n",
              "      <td>4.562500</td>\n",
              "      <td>4.410959</td>\n",
              "    </tr>\n",
              "    <tr>\n",
              "      <th>Schindler's List (1993)</th>\n",
              "      <td>4.632911</td>\n",
              "      <td>4.406393</td>\n",
              "    </tr>\n",
              "    <tr>\n",
              "      <th>Rear Window (1954)</th>\n",
              "      <td>4.351852</td>\n",
              "      <td>4.400000</td>\n",
              "    </tr>\n",
              "    <tr>\n",
              "      <th>Usual Suspects, The (1995)</th>\n",
              "      <td>4.333333</td>\n",
              "      <td>4.399061</td>\n",
              "    </tr>\n",
              "    <tr>\n",
              "      <th>Star Wars (1977)</th>\n",
              "      <td>4.245033</td>\n",
              "      <td>4.398148</td>\n",
              "    </tr>\n",
              "    <tr>\n",
              "      <th>12 Angry Men (1957)</th>\n",
              "      <td>4.269231</td>\n",
              "      <td>4.363636</td>\n",
              "    </tr>\n",
              "    <tr>\n",
              "      <th>Godfather, The (1972)</th>\n",
              "      <td>4.133333</td>\n",
              "      <td>4.334416</td>\n",
              "    </tr>\n",
              "  </tbody>\n",
              "</table>\n",
              "</div>\n",
              "      <button class=\"colab-df-convert\" onclick=\"convertToInteractive('df-784e93ea-2f46-4a9d-adf2-725eea533c32')\"\n",
              "              title=\"Convert this dataframe to an interactive table.\"\n",
              "              style=\"display:none;\">\n",
              "        \n",
              "  <svg xmlns=\"http://www.w3.org/2000/svg\" height=\"24px\"viewBox=\"0 0 24 24\"\n",
              "       width=\"24px\">\n",
              "    <path d=\"M0 0h24v24H0V0z\" fill=\"none\"/>\n",
              "    <path d=\"M18.56 5.44l.94 2.06.94-2.06 2.06-.94-2.06-.94-.94-2.06-.94 2.06-2.06.94zm-11 1L8.5 8.5l.94-2.06 2.06-.94-2.06-.94L8.5 2.5l-.94 2.06-2.06.94zm10 10l.94 2.06.94-2.06 2.06-.94-2.06-.94-.94-2.06-.94 2.06-2.06.94z\"/><path d=\"M17.41 7.96l-1.37-1.37c-.4-.4-.92-.59-1.43-.59-.52 0-1.04.2-1.43.59L10.3 9.45l-7.72 7.72c-.78.78-.78 2.05 0 2.83L4 21.41c.39.39.9.59 1.41.59.51 0 1.02-.2 1.41-.59l7.78-7.78 2.81-2.81c.8-.78.8-2.07 0-2.86zM5.41 20L4 18.59l7.72-7.72 1.47 1.35L5.41 20z\"/>\n",
              "  </svg>\n",
              "      </button>\n",
              "      \n",
              "  <style>\n",
              "    .colab-df-container {\n",
              "      display:flex;\n",
              "      flex-wrap:wrap;\n",
              "      gap: 12px;\n",
              "    }\n",
              "\n",
              "    .colab-df-convert {\n",
              "      background-color: #E8F0FE;\n",
              "      border: none;\n",
              "      border-radius: 50%;\n",
              "      cursor: pointer;\n",
              "      display: none;\n",
              "      fill: #1967D2;\n",
              "      height: 32px;\n",
              "      padding: 0 0 0 0;\n",
              "      width: 32px;\n",
              "    }\n",
              "\n",
              "    .colab-df-convert:hover {\n",
              "      background-color: #E2EBFA;\n",
              "      box-shadow: 0px 1px 2px rgba(60, 64, 67, 0.3), 0px 1px 3px 1px rgba(60, 64, 67, 0.15);\n",
              "      fill: #174EA6;\n",
              "    }\n",
              "\n",
              "    [theme=dark] .colab-df-convert {\n",
              "      background-color: #3B4455;\n",
              "      fill: #D2E3FC;\n",
              "    }\n",
              "\n",
              "    [theme=dark] .colab-df-convert:hover {\n",
              "      background-color: #434B5C;\n",
              "      box-shadow: 0px 1px 3px 1px rgba(0, 0, 0, 0.15);\n",
              "      filter: drop-shadow(0px 1px 2px rgba(0, 0, 0, 0.3));\n",
              "      fill: #FFFFFF;\n",
              "    }\n",
              "  </style>\n",
              "\n",
              "      <script>\n",
              "        const buttonEl =\n",
              "          document.querySelector('#df-784e93ea-2f46-4a9d-adf2-725eea533c32 button.colab-df-convert');\n",
              "        buttonEl.style.display =\n",
              "          google.colab.kernel.accessAllowed ? 'block' : 'none';\n",
              "\n",
              "        async function convertToInteractive(key) {\n",
              "          const element = document.querySelector('#df-784e93ea-2f46-4a9d-adf2-725eea533c32');\n",
              "          const dataTable =\n",
              "            await google.colab.kernel.invokeFunction('convertToInteractive',\n",
              "                                                     [key], {});\n",
              "          if (!dataTable) return;\n",
              "\n",
              "          const docLinkHtml = 'Like what you see? Visit the ' +\n",
              "            '<a target=\"_blank\" href=https://colab.research.google.com/notebooks/data_table.ipynb>data table notebook</a>'\n",
              "            + ' to learn more about interactive tables.';\n",
              "          element.innerHTML = '';\n",
              "          dataTable['output_type'] = 'display_data';\n",
              "          await google.colab.output.renderOutput(dataTable, element);\n",
              "          const docLink = document.createElement('div');\n",
              "          docLink.innerHTML = docLinkHtml;\n",
              "          element.appendChild(docLink);\n",
              "        }\n",
              "      </script>\n",
              "    </div>\n",
              "  </div>\n",
              "  "
            ]
          },
          "metadata": {},
          "execution_count": 27
        }
      ]
    },
    {
      "cell_type": "code",
      "source": [
        "mean_ratings.plot(x='F', y='M', kind='scatter', figsize=(5,5))"
      ],
      "metadata": {
        "id": "-uIJJG4UvomR",
        "colab": {
          "base_uri": "https://localhost:8080/",
          "height": 517
        },
        "outputId": "e5a4cd0e-c782-48b3-d0de-34f9c1be3166"
      },
      "execution_count": null,
      "outputs": [
        {
          "output_type": "stream",
          "name": "stderr",
          "text": [
            "/usr/local/lib/python3.9/dist-packages/pandas/plotting/_matplotlib/core.py:1114: UserWarning: No data for colormapping provided via 'c'. Parameters 'cmap' will be ignored\n",
            "  scatter = ax.scatter(\n"
          ]
        },
        {
          "output_type": "execute_result",
          "data": {
            "text/plain": [
              "<Axes: xlabel='F', ylabel='M'>"
            ]
          },
          "metadata": {},
          "execution_count": 28
        },
        {
          "output_type": "display_data",
          "data": {
            "text/plain": [
              "<Figure size 500x500 with 1 Axes>"
            ],
            "image/png": "[encoded data removed]"
          },
          "metadata": {}
        }
      ]
    },
    {
      "cell_type": "code",
      "source": [
        "#Afficher un \"scatter plot\" des notes moyennes des hommes vs les femmes pour chaque film noté moins de seuil_pop = 100 fois.\n",
        "data_not_popular = data[data.movie_count <= seuil_pop]\n",
        "mean_ratings_not_popular = data_not_popular.pivot_table(values='rating', index='title',columns='genre', aggfunc='mean')\n",
        "mean_ratings_not_popular.plot(x='F', y='M', kind='scatter', figsize=(5,5))"
      ],
      "metadata": {
        "id": "84v-bSpkvvIG",
        "colab": {
          "base_uri": "https://localhost:8080/",
          "height": 517
        },
        "outputId": "fd780ec7-6c5d-4f6b-b6d7-3a3b9d421ffb"
      },
      "execution_count": null,
      "outputs": [
        {
          "output_type": "stream",
          "name": "stderr",
          "text": [
            "/usr/local/lib/python3.9/dist-packages/pandas/plotting/_matplotlib/core.py:1114: UserWarning: No data for colormapping provided via 'c'. Parameters 'cmap' will be ignored\n",
            "  scatter = ax.scatter(\n"
          ]
        },
        {
          "output_type": "execute_result",
          "data": {
            "text/plain": [
              "<Axes: xlabel='F', ylabel='M'>"
            ]
          },
          "metadata": {},
          "execution_count": 29
        },
        {
          "output_type": "display_data",
          "data": {
            "text/plain": [
              "<Figure size 500x500 with 1 Axes>"
            ],
            "image/png": "[encoded data removed]"
          },
          "metadata": {}
        }
      ]
    },
    {
      "cell_type": "markdown",
      "source": [
        "\n",
        "\n",
        "```\n",
        "Model building and Evaluation\n",
        "```\n",
        "\n"
      ],
      "metadata": {
        "id": "AC-_9ZZizGNn"
      }
    },
    {
      "cell_type": "code",
      "execution_count": null,
      "metadata": {
        "id": "6MennZs6uPpR"
      },
      "outputs": [],
      "source": [
        "import pandas as pd\n",
        "import numpy as np\n",
        "\n",
        "#Fonction calculant le rmse à l'aide de tableau des notes prédites et réelles\n",
        "def rmse(ratings, prediction):\n",
        "  s = 0\n",
        "  for i in range(20000):\n",
        "    s += (ratings[i] - prediction[i])**2\n",
        "  return np.sqrt(s/20000)\n",
        "\n",
        "#Fonction calculant les rmses pour les differents modèles, en fonctions des differentes datasets\n",
        "#Le paramètre n represente l'indice de la partition choisie(u1,...,u5)\n",
        "def fonction(n):\n",
        "  rmse_1 = []\n",
        "  #Creation de la matrice remplie de zéros\n",
        "  R = np.zeros((943,1682))\n",
        "\n",
        "  #Création de la table ratings_base contenant les données d'entrainenent de la n_ième partition choisie\n",
        "  nnoms = ['users', 'movies', 'ratings', 'times+']\n",
        "  ratings_base = pd.read_table('/content/sample_data/u'+str(n)+'.base',sep = '\\t', names = nnoms)\n",
        "\n",
        "  #Remplissage de la matrice\n",
        "  cord_base = [] #Tableau devant contenir un tuple (userId, moviesId, ratingsId) pour les données d'entrainement\n",
        "  for i in range(80000):\n",
        "    cord_base.append((ratings_base['users'][i],ratings_base['movies'][i], ratings_base['ratings'][i]))\n",
        "    R[cord_base[i][0]-1][cord_base[i][1]-1] = cord_base[i][2]#Remplissage de la matrice avec les notes de la n_ième partition choisie\n",
        "\n",
        "  #Création de la table ratings_test contenant les données du test de la n_ième partition choisie\n",
        "  ratings_test = pd.read_table('/content/sample_data/u'+str(n)+'.test',sep = '\\t', names = nnoms)\n",
        "  cord_test = [] #Tableau devant contenir un tuple (userId, moviesId, ratingsId) pour les données de test\n",
        "  for i in range(20000):\n",
        "    cord_test.append((ratings_test['users'][i],ratings_test['movies'][i], ratings_test['ratings'][i]))\n",
        "\n",
        "\n",
        "  ##Modèle 1: Simple overall average model\n",
        "  pred1 = []#Tableau des notes prédites\n",
        "  for i in range(20000):\n",
        "    pred1.append(ratings_base['ratings'].mean())\n",
        "  RMSE1 = rmse(ratings_test['ratings'], pred1)\n",
        "\n",
        "  ##Modèle 2: Movie effect multi-variate model\n",
        "  #Remplissage du tableau devant contenir la moyenne des notes  attribuées à chaque film par les utilisateurs\n",
        "  t_i = []\n",
        "  for i in range(1682):\n",
        "    a = sum(R[:,i])\n",
        "    compt=0\n",
        "    for j in range(943):\n",
        "      if R[j][i]!= 0 :\n",
        "        compt += 1\n",
        "    if compt != 0:\n",
        "      t_i.append(a/compt)\n",
        "    else:\n",
        "      t_i.append(0)\n",
        "\n",
        "  #Remplissage du tableau devant contenir les notes prédites pour les films manquants\n",
        "  pred2 = []\n",
        "  for i in range(20000):\n",
        "    pred2.append(t_i[cord_test[i][1]-1]) #cord_test[i][1] correspond aux identifiants des films manquants\n",
        "\n",
        "  #Remplissage du tableau devant contenir les biais associés à chaque film\n",
        "  b_i = []\n",
        "  for i in range(20000):\n",
        "    b_i.append(pred2[i] - ratings_base['ratings'].mean())\n",
        "  RMSE2 = rmse(ratings_test['ratings'], pred2)\n",
        "\n",
        "  ##Modèle 3: Movie and user effect multi-variate model\n",
        "  t_u=[] #tableau devant contenir la moyenne des notes  attribuées par chaque utilisateur pour l'ensemble des films visionnés par celui-ci\n",
        "  t_films_u =[] #tableau devant contenir la moyenne des biais des films regardés par chaque utilisateur\n",
        "  for i in range(943):\n",
        "    c=sum(R[i])\n",
        "    tab = [] #tableau devant contenir les biais des films regardés par l'utilisateur u\n",
        "    for j in range(1682):\n",
        "      if R[i][j]!= 0 :\n",
        "        tab.append(b_i[j])\n",
        "    t_films_u.append(np.mean(tab))\n",
        "    if len(tab)!=0:\n",
        "      t_u.append(c/len(tab))\n",
        "    else:\n",
        "      t_u.append(0)\n",
        "\n",
        "  b_u = []  #tableau devant contenir les biais associés à chaque utilisateur\n",
        "  pred_u = [] #tableau devant contenir les notes prédites compte tenu du biais utilisateur\n",
        "  pred3 = []  #tableau devant contenir les notes prédites compte-tenu des biais utilisateur et film\n",
        "  for i in range(20000):\n",
        "    pred_u.append(t_u[cord_test[i][0]-1])\n",
        "    b_u.append(t_u[cord_test[i][0]-1] - t_films_u[cord_test[i][0]-1] - ratings_base['ratings'].mean())\n",
        "    pred3.append(ratings_base['ratings'].mean() + b_i[i]+b_u[i])\n",
        "  RMSE3 = rmse(ratings_test['ratings'], pred3)\n",
        "\n",
        "\n",
        "  ##Modele 4: Regularized movie and user effect model\n",
        "  l = 6.49 #Valeur de l pour la quelle le rmse4 est minimum\n",
        "  tab_rmse=[]\n",
        "  t_u_regularized=[]  #tableau contenant la moyenne pénalisée par le paramètre l de régulation donnée par chaque utilisateur\n",
        "  t_films_u_regularized =[] #tableau devant contenir la moyenne pénalisée par le paramètre l de régulation des biais des films regardés par chaque utilisateur\n",
        "  coef=[]\n",
        "  for i in range(943):\n",
        "    c=sum(R[i])\n",
        "    compt=0\n",
        "    tab_regularized = []\n",
        "    for j in range(1682):\n",
        "      if R[i][j]!= 0 :\n",
        "        compt+=1\n",
        "        tab_regularized.append(b_i[j])\n",
        "    t_films_u_regularized.append(sum(tab_regularized)/(compt+l))\n",
        "    coef.append(compt/(compt+l))\n",
        "    if compt!=0:\n",
        "      t_u_regularized.append(c/(compt+l))\n",
        "    else:\n",
        "      t_u_regularized.append(0)\n",
        "\n",
        "  #Remplissage du tableau devant contenir les biais pénalisée par le paramètre l de régulation associés à chaque film\n",
        "  b_i_regularized = []\n",
        "  for i in range(1682):\n",
        "    b = 0\n",
        "    a = sum(R[:,i])\n",
        "    compt=0\n",
        "    for j in range(943):\n",
        "      if R[j][i]!= 0 :\n",
        "        compt += 1\n",
        "    b = a-compt*(ratings_base[\"ratings\"].mean())\n",
        "    if compt != 0:\n",
        "      b_i_regularized.append(b/(compt+l))\n",
        "    else:\n",
        "      b_i_regularized.append(0)\n",
        "\n",
        "  b_u_regularized = []\n",
        "  pred_u_regularized = []\n",
        "  pred3_regularized = []\n",
        "  for i in range(20000):\n",
        "    pred_u_regularized.append(t_u_regularized[cord_test[i][0]-1])\n",
        "    b_u_regularized.append(pred_u_regularized[i] -t_films_u_regularized[cord_test[i][0]-1]-coef[cord_test[i][0]-1] * ratings_base['ratings'].mean())\n",
        "    pred3_regularized.append(ratings_base['ratings'].mean() + b_i_regularized[cord_test[i][1]-1] + b_u_regularized[i])\n",
        "  tab_rmse.append(rmse(ratings_test['ratings'], pred3_regularized))\n",
        "  RMSE4 = min(tab_rmse)\n",
        "\n",
        "  #Formatage des résultats\n",
        "  data = {'Modéles':  ['Simple overall average model', 'Movie effect multi-variate model','Movie and user effect multi-variate model', 'Regularized movie and user effect model'],\n",
        "        'RMSE': [RMSE1, RMSE2, RMSE3, RMSE4]}\n",
        "\n",
        "  return pd.DataFrame(data)"
      ]
    },
    {
      "cell_type": "code",
      "source": [
        "if __name__ == \"__main__\":\n",
        "  m = np.zeros((5,4)) #Matrice qui servira pour le calcul de la moyenne des rmse pour chaque modèle\n",
        "\n",
        "  #Aplication de la fonction à chaque partition\n",
        "  for i in range(1,6):\n",
        "    m[i-1] = fonction(i)['RMSE']\n",
        "    print(\"Résultat base de donnée u\"+str(i),\"\\n\",fonction(i),\"\\n\")\n",
        "\n",
        "  #Calcul de la moyenne des rmse pour chaque modèle\n",
        "  for i in range(1,5):\n",
        "    print(\"RMSE moyen du modèle \"+str(i)+\" :\", m[:,i-1].mean(),\"\\n\")"
      ],
      "metadata": {
        "id": "TCNzS-BJuTTa",
        "colab": {
          "base_uri": "https://localhost:8080/"
        },
        "outputId": "c159c926-f6e3-4b9e-d736-b93f835451e8"
      },
      "execution_count": null,
      "outputs": [
        {
          "output_type": "stream",
          "name": "stdout",
          "text": [
            "Résultat base de donnée u1 \n",
            "                                      Modéles      RMSE\n",
            "0               Simple overall average model  1.153676\n",
            "1           Movie effect multi-variate model  1.036062\n",
            "2  Movie and user effect multi-variate model  0.991449\n",
            "3    Regularized movie and user effect model  0.973771 \n",
            "\n",
            "Résultat base de donnée u2 \n",
            "                                      Modéles      RMSE\n",
            "0               Simple overall average model  1.130664\n",
            "1           Movie effect multi-variate model  1.031429\n",
            "2  Movie and user effect multi-variate model  0.978898\n",
            "3    Regularized movie and user effect model  0.961109 \n",
            "\n",
            "Résultat base de donnée u3 \n",
            "                                      Modéles      RMSE\n",
            "0               Simple overall average model  1.111582\n",
            "1           Movie effect multi-variate model  1.024231\n",
            "2  Movie and user effect multi-variate model  0.977835\n",
            "3    Regularized movie and user effect model  0.955252 \n",
            "\n",
            "Résultat base de donnée u4 \n",
            "                                      Modéles      RMSE\n",
            "0               Simple overall average model  1.113294\n",
            "1           Movie effect multi-variate model  1.019363\n",
            "2  Movie and user effect multi-variate model  0.974682\n",
            "3    Regularized movie and user effect model  0.952669 \n",
            "\n",
            "Résultat base de donnée u5 \n",
            "                                      Modéles      RMSE\n",
            "0               Simple overall average model  1.118675\n",
            "1           Movie effect multi-variate model  1.028093\n",
            "2  Movie and user effect multi-variate model  0.972054\n",
            "3    Regularized movie and user effect model  0.949949 \n",
            "\n",
            "RMSE moyen du modèle 1 : 1.1255782065062907 \n",
            "\n",
            "RMSE moyen du modèle 2 : 1.0278356641300506 \n",
            "\n",
            "RMSE moyen du modèle 3 : 0.9789835191544369 \n",
            "\n",
            "RMSE moyen du modèle 4 : 0.9585500146532336 \n",
            "\n"
          ]
        }
      ]
    },
    {
      "cell_type": "markdown",
      "source": [
        "In light of these results, it appears that Model 1, which has the largest RMSE, is the most coarse model. Model 2 gains slightly more precision by taking into account the effect of the movies. Precision becomes even more optimal by combining this effect with that of the users, as seen in the results of Model 3, which is more refined than the previous ones.\n",
        "Finally, we have a clear illustration of the extremely important effect of regularization, which, when applied to the previous model, emerges as the most performant of them all."
      ],
      "metadata": {
        "id": "t8I2At7Wzyze"
      }
    },
    {
      "cell_type": "markdown",
      "source": [
        "\n",
        "\n",
        "```\n",
        "Conclusion and perspectives\n",
        "```\n",
        "From the work carried out, we conclude that a recommendation system aiming for optimal precision must take into account at least the impact of the movies and the users who have assigned ratings. Such a model remains limited but can be greatly improved with the help of regularization in order to achieve the pinnacle of precision.\n",
        "\n",
        "The perspectives that could be derived from such work are very interesting. We can envisage the improvement of current recommendation systems by identifying the shortcomings of these systems, including the failure to take into account the influence of evaluated movies and users, and achieving the best possible performance by optimizing the hyperparameter of the regularization model. Additionally, the method could be applied to other domains, including music and online services more generally.\n"
      ],
      "metadata": {
        "id": "n7sM4mjd0Fiw"
      }
    }
  ]
}